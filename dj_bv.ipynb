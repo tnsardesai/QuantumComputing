{
 "cells": [
  {
   "cell_type": "markdown",
   "metadata": {},
   "source": [
    "# Deutsch–Jozsa & Bernstein-Vazirani in pyQuil"
   ]
  },
  {
   "cell_type": "markdown",
   "metadata": {},
   "source": [
    "![TeamName](https://media.giphy.com/media/3og0ITQOC5wlyk8ffy/giphy.gif \"pied pipper\")"
   ]
  },
  {
   "cell_type": "code",
   "execution_count": 15,
   "metadata": {},
   "outputs": [],
   "source": [
    "import numpy as np\n",
    "import itertools\n",
    "\n",
    "from pyquil import Program, get_qc\n",
    "from pyquil.gates import *\n",
    "from pyquil.quil import DefGate"
   ]
  },
  {
   "cell_type": "code",
   "execution_count": 2,
   "metadata": {},
   "outputs": [],
   "source": [
    "def create_Uf(f, n):\n",
    "    \"\"\"\n",
    "    Function to create Ux matrix\n",
    "    \n",
    "    @param f: Input function that we want to encode\n",
    "    @param n: Number of qubits. This should be 1+(len(input to f))\n",
    "    \n",
    "    @return: Numpy matrix Uf\n",
    "    \"\"\"\n",
    "    dim = 2**n\n",
    "    # creating a 2^n x 2^n zeros matrix. \n",
    "    Uf = np.zeros((dim, dim), dtype=int)\n",
    "    # This creates a list of the different permutations of n bits. \n",
    "    lst_bitseq = list(map(list, itertools.product([0, 1], repeat=n)))\n",
    "    for col, bitseq in enumerate(lst_bitseq):\n",
    "        # applying the operation on the last helper bit. \n",
    "        last_bit = bitseq[-1] ^ f(bitseq[:-1])\n",
    "        final_bitseq = [bit for bit in bitseq]\n",
    "        final_bitseq[-1] = last_bit\n",
    "        # using the To-Form method discussed in class to help create the Uf matrix. \n",
    "        Uf[lst_bitseq.index(final_bitseq), col] = 1\n",
    "    return Uf"
   ]
  },
  {
   "cell_type": "code",
   "execution_count": 3,
   "metadata": {},
   "outputs": [],
   "source": [
    "def create_dj_circuit(f, n):\n",
    "    \"\"\"\n",
    "    This function will create the program.\n",
    "    \n",
    "    @param f: Input function that we want to encode\n",
    "    @param n: Number of qubits. This should be 1+(len(input to f))\n",
    "    \n",
    "    @return: Pyquil Program\n",
    "    \"\"\"\n",
    "    uf = create_Uf(f, n)\n",
    "    # Get the Quil definition for the new gate\n",
    "    uf_definition = DefGate(\"UF\", uf)\n",
    "    # Get the gate constructor\n",
    "    UF = uf_definition.get_constructor()\n",
    "    \n",
    "    p = Program()\n",
    "    p += uf_definition\n",
    "    p += X(n-1) # Make the last \n",
    "    for i in range(0, n):\n",
    "        p += H(i)\n",
    "    p += Program(\"UF {}\".format(' '.join(str(x) for x in list(range(0, n)))))\n",
    "    for i in range(0, n-1):\n",
    "        p += H(i)\n",
    "    return p"
   ]
  },
  {
   "cell_type": "code",
   "execution_count": 4,
   "metadata": {},
   "outputs": [],
   "source": [
    "def run_circuit(f, n):\n",
    "    \"\"\"\n",
    "    creates and runs a circuit\n",
    "    \n",
    "    @param f: Input function that we want to encode\n",
    "    @param n: Number of qubits. This should be 1+(len(input to f))\n",
    "    \n",
    "    @return: result\n",
    "    \"\"\"\n",
    "    p = create_dj_circuit(f, n)\n",
    "    qc = get_qc('{}q-qvm'.format(n))\n",
    "    result = qc.run_and_measure(p, trials=1)  # We only run 1 trial here because it is deterministic with no noise\n",
    "    return result"
   ]
  },
  {
   "cell_type": "code",
   "execution_count": 5,
   "metadata": {},
   "outputs": [],
   "source": [
    "def run_dj(f, n):\n",
    "    \"\"\"\n",
    "    Runs Deutsch–Jozsa on f and n\n",
    "    \n",
    "    @param f: Input function that we want to encode\n",
    "    @param n: n is length of input to the function\n",
    "    \n",
    "    Prints either constant or balanced\n",
    "    \"\"\"\n",
    "    res = run_circuit(f, n+1)\n",
    "    sum = 0\n",
    "    for i in range(0, n):\n",
    "        sum += res[i][0]\n",
    "    if sum == 0:\n",
    "        print(\"Function is constant\")\n",
    "    else:\n",
    "        print(\"Function is balanced\")"
   ]
  },
  {
   "cell_type": "code",
   "execution_count": 6,
   "metadata": {},
   "outputs": [],
   "source": [
    "def run_bv(f, n):\n",
    "    \"\"\"\n",
    "    Runs Bernstein-Vazirani on f and n\n",
    "    \n",
    "    @param f: Input function that we want to encode\n",
    "    @param n: n is length of input to the function\n",
    "    \n",
    "    Prints the value of a and b of f\n",
    "    \"\"\"\n",
    "    res = run_circuit(f, n+1)\n",
    "    b = f([0]*(n))\n",
    "    a = ''\n",
    "    for i in range(0, n):\n",
    "        a += str(res[i][0])\n",
    "    print(\"Function is defined with a={0}, b={1}\".format(a, b))"
   ]
  },
  {
   "cell_type": "markdown",
   "metadata": {},
   "source": [
    "## Design\n",
    "\n",
    "**Present the design of how you implemented the black-box function U_f.  Assess how visually neat and easy to read it is.**\n",
    "\n",
    "We know that Uf|x>|b> = |x>|b+f(x)> where Uf is the unitary matrix representing the blackbox function f. For n qubits, we first find all the different permutations of the bits in their two states (0,1) and then apply the operation f(x) xor'd with the last qubit (the helper bit) to get a new state for each of those permutations. Using this knowledge of knowing the initial qubit states and the resulting qubit states after applying the operation, we can create the Uf matrix using the \"From - To\" idea that the professor covered in class. I would it personally give it a 10/10 on how visually neat and easy to read it is. \n",
    "\n",
    "\n",
    "**Present the design for how you prevent the user of U_f from accessing the implementation of U_f.  Assess how well you succeeded.**\n",
    "\n",
    "We can use Cython, Nuitka, Shed Skin or something similar to compile python to C code, then distribute the file containing the function as a python binary library (pyd) instead. We didn't apply this method for this homework, but I presume this would be enough to abstract the functionality of Uf creation. However for a determined user, you can't really hide the implementation using Python. \n",
    "\n",
    "**Present the design of how you parameterized the solution in n.** \n",
    "\n",
    "When creating the Uf matrix, we took n as an arguement to the create_Uf() function and accordingly created a unitary matrix $U_f \\in \\{1,0\\}^{2^n \\times 2^n}$ and the filled it using the method described in the first answer. For the quantum circuit, we created a string to define the n qubits that Uf would be applied to and passed it as an arguement to our Program object. \n",
    "\n",
    "**Discuss the number of lines and percentage of code that your two programs share.  Assess how well you succeeded in reusing code from one program to the next.**\n",
    "\n",
    "We pretty much re-used the entire code for both these programs as the quantum circuit for both of them are exactly the same. All we had to change was the black-box functions for testing our code and some classical post-processing to print the answer"
   ]
  },
  {
   "cell_type": "markdown",
   "metadata": {},
   "source": [
    "# Look at the 4 cases below to see that there is a difference in execution time for different input of Uf\n",
    "\n",
    "Especially notice that first case is faster than all the other cases"
   ]
  },
  {
   "cell_type": "markdown",
   "metadata": {},
   "source": [
    "### Constant function that always returns 0 on input of length 4 "
   ]
  },
  {
   "cell_type": "code",
   "execution_count": 7,
   "metadata": {},
   "outputs": [
    {
     "name": "stdout",
     "output_type": "stream",
     "text": [
      "Function is constant\n",
      "CPU times: user 429 ms, sys: 11.1 ms, total: 440 ms\n",
      "Wall time: 483 ms\n"
     ]
    }
   ],
   "source": [
    "%%time\n",
    "run_dj((lambda x: 0), 4)"
   ]
  },
  {
   "cell_type": "markdown",
   "metadata": {},
   "source": [
    "### Constant function that always returns 1 on input of length 4 "
   ]
  },
  {
   "cell_type": "code",
   "execution_count": 8,
   "metadata": {},
   "outputs": [
    {
     "name": "stdout",
     "output_type": "stream",
     "text": [
      "Function is constant\n",
      "CPU times: user 916 ms, sys: 13.8 ms, total: 929 ms\n",
      "Wall time: 2.79 s\n"
     ]
    }
   ],
   "source": [
    "%%time\n",
    "run_dj((lambda x: 1), 4)"
   ]
  },
  {
   "cell_type": "markdown",
   "metadata": {},
   "source": [
    "### Balanced function that returns not of the partiy of bits on input of length 4"
   ]
  },
  {
   "cell_type": "code",
   "execution_count": 9,
   "metadata": {},
   "outputs": [
    {
     "name": "stdout",
     "output_type": "stream",
     "text": [
      "Function is balanced\n",
      "CPU times: user 3.25 s, sys: 49.8 ms, total: 3.3 s\n",
      "Wall time: 6.85 s\n"
     ]
    }
   ],
   "source": [
    "%%time\n",
    "run_dj((lambda x: sum(x)%2 ^ 1), 4)"
   ]
  },
  {
   "cell_type": "markdown",
   "metadata": {},
   "source": [
    "### Balanced function that returns the partiy of bits on input of length 4"
   ]
  },
  {
   "cell_type": "code",
   "execution_count": 10,
   "metadata": {},
   "outputs": [
    {
     "name": "stdout",
     "output_type": "stream",
     "text": [
      "Function is balanced\n",
      "CPU times: user 3.17 s, sys: 49.2 ms, total: 3.22 s\n",
      "Wall time: 6.88 s\n"
     ]
    }
   ],
   "source": [
    "%%time\n",
    "run_dj((lambda x: sum(x)%2), 4)"
   ]
  },
  {
   "cell_type": "markdown",
   "metadata": {},
   "source": [
    "# Now we will look at how long it takes as input size increases \n",
    "\n",
    "I am only providing results for the case where we always return constant but it is easy to do this for the rest of the cases. Using this test case as it is the only example where I could successfully get result up to size of input 7, in other cases we are seeing a timeout after 4 or 5."
   ]
  },
  {
   "cell_type": "code",
   "execution_count": 11,
   "metadata": {
    "scrolled": false
   },
   "outputs": [
    {
     "name": "stdout",
     "output_type": "stream",
     "text": [
      "Function is constant\n",
      "Function is constant\n",
      "Function is constant\n",
      "Function is constant\n",
      "Function is constant\n",
      "Function is constant\n",
      "Function is constant\n"
     ]
    },
    {
     "data": {
      "image/png": "[encoded data removed]",
      "text/plain": [
       "<Figure size 432x288 with 1 Axes>"
      ]
     },
     "metadata": {
      "needs_background": "light"
     },
     "output_type": "display_data"
    }
   ],
   "source": [
    "%matplotlib inline\n",
    "import time\n",
    "import matplotlib.pyplot as plt\n",
    "\n",
    "time_it_took = []\n",
    "\n",
    "for i in range(1,8):\n",
    "    start = time.time()\n",
    "    run_dj((lambda x: 0), i)\n",
    "    end = time.time()\n",
    "    time_it_took.append(end-start)\n",
    "    \n",
    "plt.plot(list(range(1,8)), time_it_took)\n",
    "plt.show()"
   ]
  },
  {
   "cell_type": "markdown",
   "metadata": {},
   "source": [
    "# Now running some test to show that Bernstein-Vazirani also works"
   ]
  },
  {
   "cell_type": "code",
   "execution_count": 12,
   "metadata": {},
   "outputs": [
    {
     "name": "stdout",
     "output_type": "stream",
     "text": [
      "Function is defined with a=10, b=1\n",
      "CPU times: user 73.2 ms, sys: 8.71 ms, total: 81.9 ms\n",
      "Wall time: 102 ms\n"
     ]
    }
   ],
   "source": [
    "%%time\n",
    "run_bv((lambda x: (np.dot([1, 0], x)%2) ^ 1), 2)"
   ]
  },
  {
   "cell_type": "code",
   "execution_count": 13,
   "metadata": {},
   "outputs": [
    {
     "name": "stdout",
     "output_type": "stream",
     "text": [
      "Function is defined with a=101, b=0\n",
      "CPU times: user 415 ms, sys: 8.38 ms, total: 423 ms\n",
      "Wall time: 938 ms\n"
     ]
    }
   ],
   "source": [
    "%%time\n",
    "run_bv((lambda x: (np.dot([1, 0, 1, ], x)%2) ^ 0), 3)"
   ]
  },
  {
   "cell_type": "code",
   "execution_count": 14,
   "metadata": {},
   "outputs": [
    {
     "name": "stdout",
     "output_type": "stream",
     "text": [
      "Function is defined with a=1001, b=1\n",
      "CPU times: user 2.85 s, sys: 31.9 ms, total: 2.88 s\n",
      "Wall time: 6.1 s\n"
     ]
    }
   ],
   "source": [
    "%%time\n",
    "run_bv((lambda x: (np.dot([1, 0, 0, 1], x)%2) ^ 1), 4)"
   ]
  },
  {
   "cell_type": "markdown",
   "metadata": {},
   "source": [
    "# How to use our code?\n",
    "\n",
    "Running this is straightforward. We have written two functions run_dj and run_bv. The arguments for both functions are the same. The first argument is the name of the function that we are using and the 2nd argument is length of the input to this function. Examples above"
   ]
  }
 ],
 "metadata": {
  "kernelspec": {
   "display_name": "Python 3",
   "language": "python",
   "name": "python3"
  },
  "language_info": {
   "codemirror_mode": {
    "name": "ipython",
    "version": 3
   },
   "file_extension": ".py",
   "mimetype": "text/x-python",
   "name": "python",
   "nbconvert_exporter": "python",
   "pygments_lexer": "ipython3",
   "version": "3.7.2"
  }
 },
 "nbformat": 4,
 "nbformat_minor": 2
}
