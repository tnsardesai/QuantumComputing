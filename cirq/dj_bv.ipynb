{
 "cells": [
  {
   "cell_type": "raw",
   "metadata": {},
   "source": [
    "#Deutsch–Jozsa & Bernstein-Vazirani in Cirq"
   ]
  },
  {
   "cell_type": "markdown",
   "metadata": {},
   "source": [
    "![TeamName](https://media.giphy.com/media/3og0ITQOC5wlyk8ffy/giphy.gif \"pied pipper\")"
   ]
  },
  {
   "cell_type": "code",
   "execution_count": 14,
   "metadata": {},
   "outputs": [],
   "source": [
    "import numpy as np\n",
    "import itertools\n",
    "\n",
    "import cirq\n",
    "import numpy as np\n",
    "import matplotlib "
   ]
  },
  {
   "cell_type": "code",
   "execution_count": 35,
   "metadata": {},
   "outputs": [],
   "source": [
    "class UF(cirq.Gate):\n",
    "    def set_num_qubits(self, n):\n",
    "        self.n = n\n",
    "        \n",
    "    def num_qubits(self):\n",
    "        return self.n\n",
    "    \n",
    "    def set_oracle(self, f):\n",
    "        self.f = f\n",
    "        \n",
    "    def _unitary_(self):\n",
    "        return self.create_Uf(self.f, self.n)\n",
    "    \n",
    "    def create_Uf(self, f, n):\n",
    "        \"\"\"\n",
    "        Function to create Ux matrix\n",
    "\n",
    "        @param f: Input function that we want to encode\n",
    "        @param n: Number of qubits. This should be 1+(len(input to f))\n",
    "\n",
    "        @return: Numpy matrix Uf\n",
    "        \"\"\"\n",
    "        dim = 2**n\n",
    "        # creating a 2^n x 2^n zeros matrix. \n",
    "        Uf = np.zeros((dim, dim), dtype=int)\n",
    "        # This creates a list of the different permutations of n bits. \n",
    "        lst_bitseq = list(map(list, itertools.product([0, 1], repeat=n)))\n",
    "        for col, bitseq in enumerate(lst_bitseq):\n",
    "            # applying the operation on the last helper bit. \n",
    "            last_bit = bitseq[-1] ^ f(bitseq[:-1])\n",
    "            final_bitseq = [bit for bit in bitseq]\n",
    "            final_bitseq[-1] = last_bit\n",
    "            # using the To-Form method discussed in class to help create the Uf matrix. \n",
    "            Uf[lst_bitseq.index(final_bitseq), col] = 1\n",
    "        return Uf"
   ]
  },
  {
   "cell_type": "code",
   "execution_count": 116,
   "metadata": {},
   "outputs": [],
   "source": [
    "def create_dj_circuit(f, qubits):\n",
    "    \"\"\"\n",
    "    This function will create the program.\n",
    "    \n",
    "    @param f: Input function that we want to encode\n",
    "    @param n: Number of qubits. This should be 1+(len(input to f))\n",
    "    \n",
    "    @return: Pyquil Program\n",
    "    \"\"\"\n",
    "    uf = UF()\n",
    "    uf.set_num_qubits(len(qubits))\n",
    "    uf.set_oracle(f)\n",
    "    \n",
    "    for i in qubits[:-1]:\n",
    "        yield cirq.I(i)\n",
    "    yield cirq.X(qubits[-1])\n",
    "    yield cirq.H.on_each(*qubits)\n",
    "    yield uf(*qubits)\n",
    "    yield cirq.H.on_each(*qubits[:-1])\n",
    "    yield cirq.measure(*qubits[:-1], key=\"result\")"
   ]
  },
  {
   "cell_type": "code",
   "execution_count": 117,
   "metadata": {},
   "outputs": [],
   "source": [
    "def bitstring(bits):\n",
    "    return ''.join(str(int(b)) for b in bits)\n",
    "\n",
    "def run_circuit(f, n):\n",
    "    \"\"\"\n",
    "    creates and runs a circuit\n",
    "    \n",
    "    @param f: Input function that we want to encode\n",
    "    @param n: Number of qubits. This should be 1+(len(input to f))\n",
    "    \n",
    "    @return: result\n",
    "    \"\"\"\n",
    "    simulator = cirq.Simulator()\n",
    "    qubits = cirq.LineQubit.range(n)\n",
    "    circuit = cirq.Circuit.from_ops(create_dj_circuit(f, qubits))\n",
    "    result = simulator.run(circuit, repetitions=1000) \n",
    "    return result\n"
   ]
  },
  {
   "cell_type": "code",
   "execution_count": 131,
   "metadata": {},
   "outputs": [],
   "source": [
    "def run_dj(f, n):\n",
    "    \"\"\"\n",
    "    Runs Deutsch–Jozsa on f and n\n",
    "    \n",
    "    @param f: Input function that we want to encode\n",
    "    @param n: n is length of input to the function\n",
    "    \n",
    "    Prints either constant or balanced\n",
    "    \"\"\"\n",
    "    \n",
    "    result = run_circuit(f, n+1)\n",
    "    frequencies = result.histogram(key='result', fold_func=bitstring)\n",
    "    most_common_bitstring = frequencies.most_common(1)[0][0]\n",
    "    if(most_common_bitstring == '0'*n):\n",
    "        print('Function is constant')\n",
    "    else:\n",
    "        print(\"Function is balanced\")\n"
   ]
  },
  {
   "cell_type": "code",
   "execution_count": 139,
   "metadata": {},
   "outputs": [],
   "source": [
    "def run_bv(f, n):\n",
    "    \"\"\"\n",
    "    Runs Bernstein-Vazirani on f and n\n",
    "    \n",
    "    @param f: Input function that we want to encode\n",
    "    @param n: n is length of input to the function\n",
    "    \n",
    "    Prints the value of a and b of f\n",
    "    \"\"\"\n",
    "    result = run_circuit(f, n+1)\n",
    "    b = f([0]*(n))\n",
    "    frequencies = result.histogram(key='result', fold_func=bitstring)\n",
    "    most_common_bitstring = frequencies.most_common(1)[0][0]\n",
    "    a = most_common_bitstring\n",
    "    print(\"Function is defined with a={0}, b={1}\".format(a, b))"
   ]
  },
  {
   "cell_type": "markdown",
   "metadata": {},
   "source": [
    "## Design\n",
    "\n",
    "**Present the design of how you implemented the black-box function U_f.  Assess how visually neat and easy to read it is.**\n",
    "\n",
    "We know that Uf|x>|b> = |x>|b+f(x)> where Uf is the unitary matrix representing the blackbox function f. For n qubits, we first find all the different permutations of the bits in their two states (0,1) and then apply the operation f(x) xor'd with the last qubit (the helper bit) to get a new state for each of those permutations. Using this knowledge of knowing the initial qubit states and the resulting qubit states after applying the operation, we can create the Uf matrix using the \"From - To\" idea that the professor covered in class. I would it personally give it a 10/10 on how visually neat and easy to read it is. \n",
    "\n",
    "\n",
    "**Present the design for how you prevent the user of U_f from accessing the implementation of U_f.  Assess how well you succeeded.**\n",
    "\n",
    "We can use Cython, Nuitka, Shed Skin or something similar to compile python to C code, then distribute the file containing the function as a python binary library (pyd) instead. We didn't apply this method for this homework, but I presume this would be enough to abstract the functionality of Uf creation. However for a determined user, you can't really hide the implementation using Python. \n",
    "\n",
    "**Present the design of how you parameterized the solution in n.** \n",
    "\n",
    "When creating the Uf matrix, we took n as an arguement to the create_Uf() function and accordingly created a unitary matrix $U_f \\in \\{1,0\\}^{2^n \\times 2^n}$ and the filled it using the method described in the first answer. For the quantum circuit, we created a string to define the n qubits that Uf would be applied to and passed it as an arguement to our Program object. \n",
    "\n",
    "**Discuss the number of lines and percentage of code that your two programs share.  Assess how well you succeeded in reusing code from one program to the next.**\n",
    "\n",
    "We pretty much re-used the entire code for both these programs as the quantum circuit for both of them are exactly the same. All we had to change was the black-box functions for testing our code and some classical post-processing to print the answer"
   ]
  },
  {
   "cell_type": "markdown",
   "metadata": {},
   "source": [
    "# Look at the 4 cases below to see that there is a difference in execution time for different input of Uf\n",
    "\n",
    "Especially notice that first case is faster than all the other cases"
   ]
  },
  {
   "cell_type": "markdown",
   "metadata": {},
   "source": [
    "### Constant function that always returns 0 on input of length 4 "
   ]
  },
  {
   "cell_type": "code",
   "execution_count": 133,
   "metadata": {},
   "outputs": [
    {
     "name": "stdout",
     "output_type": "stream",
     "text": [
      "Function is constant\n",
      "CPU times: user 10.2 ms, sys: 3.11 ms, total: 13.3 ms\n",
      "Wall time: 10.4 ms\n"
     ]
    }
   ],
   "source": [
    "%%time\n",
    "run_dj((lambda x: 0), 4)"
   ]
  },
  {
   "cell_type": "markdown",
   "metadata": {},
   "source": [
    "### Constant function that always returns 1 on input of length 4 "
   ]
  },
  {
   "cell_type": "code",
   "execution_count": 134,
   "metadata": {},
   "outputs": [
    {
     "name": "stdout",
     "output_type": "stream",
     "text": [
      "Function is constant\n",
      "CPU times: user 10.3 ms, sys: 2.71 ms, total: 13 ms\n",
      "Wall time: 10.5 ms\n"
     ]
    }
   ],
   "source": [
    "%%time\n",
    "run_dj((lambda x: 1), 4)"
   ]
  },
  {
   "cell_type": "markdown",
   "metadata": {},
   "source": [
    "### Balanced function that returns not of the partiy of bits on input of length 4"
   ]
  },
  {
   "cell_type": "code",
   "execution_count": 135,
   "metadata": {},
   "outputs": [
    {
     "name": "stdout",
     "output_type": "stream",
     "text": [
      "Function is balanced\n",
      "CPU times: user 9.98 ms, sys: 2.81 ms, total: 12.8 ms\n",
      "Wall time: 10.6 ms\n"
     ]
    }
   ],
   "source": [
    "%%time\n",
    "run_dj((lambda x: sum(x)%2 ^ 1), 4)"
   ]
  },
  {
   "cell_type": "markdown",
   "metadata": {},
   "source": [
    "### Balanced function that returns the partiy of bits on input of length 4"
   ]
  },
  {
   "cell_type": "code",
   "execution_count": 136,
   "metadata": {},
   "outputs": [
    {
     "name": "stdout",
     "output_type": "stream",
     "text": [
      "Function is balanced\n",
      "CPU times: user 9.23 ms, sys: 1.65 ms, total: 10.9 ms\n",
      "Wall time: 9.29 ms\n"
     ]
    }
   ],
   "source": [
    "%%time\n",
    "run_dj((lambda x: sum(x)%2), 4)"
   ]
  },
  {
   "cell_type": "markdown",
   "metadata": {},
   "source": [
    "# Now we will look at how long it takes as input size increases \n",
    "\n",
    "I am only providing results for the case where we always return constant but it is easy to do this for the rest of the cases. Using this test case as it is the only example where I could successfully get result up to size of input 7, in other cases we are seeing a timeout after 4 or 5."
   ]
  },
  {
   "cell_type": "code",
   "execution_count": 11,
   "metadata": {
    "scrolled": false
   },
   "outputs": [
    {
     "name": "stdout",
     "output_type": "stream",
     "text": [
      "Function is constant\n",
      "Function is constant\n",
      "Function is constant\n",
      "Function is constant\n",
      "Function is constant\n",
      "Function is constant\n",
      "Function is constant\n"
     ]
    },
    {
     "data": {
      "image/png": "[encoded data removed]",
      "text/plain": [
       "<Figure size 432x288 with 1 Axes>"
      ]
     },
     "metadata": {
      "needs_background": "light"
     },
     "output_type": "display_data"
    }
   ],
   "source": [
    "%matplotlib inline\n",
    "import time\n",
    "import matplotlib.pyplot as plt\n",
    "\n",
    "time_it_took = []\n",
    "\n",
    "for i in range(1,8):\n",
    "    start = time.time()\n",
    "    run_dj((lambda x: 0), i)\n",
    "    end = time.time()\n",
    "    time_it_took.append(end-start)\n",
    "    \n",
    "plt.plot(list(range(1,8)), time_it_took)\n",
    "plt.show()"
   ]
  },
  {
   "cell_type": "markdown",
   "metadata": {},
   "source": [
    "# Now running some test to show that Bernstein-Vazirani also works"
   ]
  },
  {
   "cell_type": "code",
   "execution_count": 140,
   "metadata": {},
   "outputs": [
    {
     "name": "stdout",
     "output_type": "stream",
     "text": [
      "Function is defined with a=10, b=1\n",
      "CPU times: user 7.98 ms, sys: 1.28 ms, total: 9.26 ms\n",
      "Wall time: 8.2 ms\n"
     ]
    }
   ],
   "source": [
    "%%time\n",
    "run_bv((lambda x: (np.dot([1, 0], x)%2) ^ 1), 2)"
   ]
  },
  {
   "cell_type": "code",
   "execution_count": 141,
   "metadata": {},
   "outputs": [
    {
     "name": "stdout",
     "output_type": "stream",
     "text": [
      "Function is defined with a=101, b=0\n",
      "CPU times: user 9.33 ms, sys: 1.14 ms, total: 10.5 ms\n",
      "Wall time: 9.39 ms\n"
     ]
    }
   ],
   "source": [
    "%%time\n",
    "run_bv((lambda x: (np.dot([1, 0, 1, ], x)%2) ^ 0), 3)"
   ]
  },
  {
   "cell_type": "code",
   "execution_count": 142,
   "metadata": {},
   "outputs": [
    {
     "name": "stdout",
     "output_type": "stream",
     "text": [
      "Function is defined with a=1001, b=1\n",
      "CPU times: user 10.9 ms, sys: 2.05 ms, total: 12.9 ms\n",
      "Wall time: 11.1 ms\n"
     ]
    }
   ],
   "source": [
    "%%time\n",
    "run_bv((lambda x: (np.dot([1, 0, 0, 1], x)%2) ^ 1), 4)"
   ]
  },
  {
   "cell_type": "markdown",
   "metadata": {},
   "source": [
    "# How to use our code?\n",
    "\n",
    "Running this is straightforward. We have written two functions run_dj and run_bv. The arguments for both functions are the same. The first argument is the name of the function that we are using and the 2nd argument is length of the input to this function. Examples above"
   ]
  },
  {
   "cell_type": "code",
   "execution_count": null,
   "metadata": {},
   "outputs": [],
   "source": []
  }
 ],
 "metadata": {
  "kernelspec": {
   "display_name": "Python 3",
   "language": "python",
   "name": "python3"
  },
  "language_info": {
   "codemirror_mode": {
    "name": "ipython",
    "version": 3
   },
   "file_extension": ".py",
   "mimetype": "text/x-python",
   "name": "python",
   "nbconvert_exporter": "python",
   "pygments_lexer": "ipython3",
   "version": "3.7.0"
  }
 },
 "nbformat": 4,
 "nbformat_minor": 2
}
