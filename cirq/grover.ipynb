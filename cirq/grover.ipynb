{
 "cells": [
  {
   "cell_type": "markdown",
   "metadata": {},
   "source": [
    "# Grover's algorithm in cirq"
   ]
  },
  {
   "cell_type": "code",
   "execution_count": 139,
   "metadata": {},
   "outputs": [],
   "source": [
    "import numpy as np\n",
    "import itertools\n",
    "import time\n",
    "import cirq\n",
    "import numpy as np\n",
    "import matplotlib.pyplot as plt"
   ]
  },
  {
   "cell_type": "code",
   "execution_count": 140,
   "metadata": {},
   "outputs": [],
   "source": [
    "class ZF(cirq.Gate):\n",
    "    def set_num_qubits(self, n):\n",
    "        \"\"\"\n",
    "        Member function that sets the user defined number of qubits required \n",
    "        for this gate. This will help us build a custom unitary matrix for a\n",
    "        custom circuit.\n",
    "        \n",
    "        @param n: The number of qubits. \n",
    "        \"\"\"\n",
    "        self.n = n\n",
    "        \n",
    "    def num_qubits(self):\n",
    "        \"\"\"\n",
    "        Member function that returns the number of qubits the gate works on. \n",
    "        \"\"\"\n",
    "        return self.n\n",
    "    \n",
    "    def set_oracle(self, f):\n",
    "        \"\"\"\n",
    "        Member function that sets the oracle function that we are trying to uncover. \n",
    "        \"\"\"\n",
    "        self.f = f\n",
    "        \n",
    "    def __str__(self):\n",
    "        if self.n == 1:\n",
    "            return 'Zf'\n",
    "        return 'Zf^{}'.format(self.n)\n",
    "    \n",
    "    def _unitary_(self):\n",
    "        \"\"\"\n",
    "        Member function that returns the unitary matrix for the UF gate. \n",
    "        \"\"\"\n",
    "        return self.create_Zf(self.f, self.n)\n",
    "    \n",
    "    def create_Zf(self, f, n):\n",
    "        \"\"\"\n",
    "        Function to create Zf matrix\n",
    "\n",
    "        @param f: Input function that we want to encode\n",
    "        @param n: Number of qubits.\n",
    "\n",
    "        @return: Numpy matrix Zf\n",
    "        \"\"\"    \n",
    "        dim = 2**n\n",
    "        # creating a 2^n x 2^n zeros matrix.\n",
    "        Zf = np.eye(dim, dtype=int)\n",
    "        # This creates a list of the different permutations of n bits.\n",
    "        lst_bitseq = list(map(list, itertools.product([0, 1], repeat=n)))\n",
    "        for col, bitseq in enumerate(lst_bitseq):\n",
    "            if f(bitseq) == 1:\n",
    "                Zf[col, col] = -1\n",
    "                break\n",
    "        return Zf"
   ]
  },
  {
   "cell_type": "code",
   "execution_count": 141,
   "metadata": {},
   "outputs": [],
   "source": [
    "class Z0(cirq.Gate):\n",
    "    def set_num_qubits(self, n):\n",
    "        \"\"\"\n",
    "        Member function that sets the user defined number of qubits required \n",
    "        for this gate. This will help us build a custom unitary matrix for a\n",
    "        custom circuit.\n",
    "        \n",
    "        @param n: The number of qubits. \n",
    "        \"\"\"\n",
    "        self.n = n\n",
    "        \n",
    "    def num_qubits(self):\n",
    "        \"\"\"\n",
    "        Member function that returns the number of qubits the gate works on. \n",
    "        \"\"\"\n",
    "        return self.n\n",
    "    \n",
    "    def set_oracle(self, f):\n",
    "        \"\"\"\n",
    "        Member function that sets the oracle function that we are trying to uncover. \n",
    "        \"\"\"\n",
    "        self.f = f\n",
    "\n",
    "    def __str__(self):\n",
    "        if self.n == 1:\n",
    "            return 'Z0'\n",
    "        return 'Z0^{}'.format(self.n)\n",
    "\n",
    "        \n",
    "    def _unitary_(self):\n",
    "        \"\"\"\n",
    "        Member function that returns the unitary matrix for the Z0 gate. \n",
    "        \"\"\"\n",
    "        return self.create_Z0(self.f, self.n)\n",
    "    \n",
    "    def create_Z0(self, f, n):\n",
    "        \"\"\"\n",
    "        Function to create Z0 matrix\n",
    "\n",
    "        @param f: Input function that we want to encode\n",
    "        @param n: Number of qubits.\n",
    "\n",
    "        @return: Numpy matrix Z0\n",
    "        \"\"\"\n",
    "        dim = 2**n\n",
    "        Z0 = -np.eye(dim, dtype=int)\n",
    "        Z0[0,0] = 1\n",
    "        return Z0"
   ]
  },
  {
   "cell_type": "code",
   "execution_count": 142,
   "metadata": {},
   "outputs": [],
   "source": [
    "def num_iters(n):\n",
    "    \"\"\"\n",
    "    This function calculates the number of iterations required for function with input size n\n",
    "    \n",
    "    @param n: Number of qubits. This should be len(input to f)\n",
    "    \n",
    "    @return: Number of executions of G matrix\n",
    "    \"\"\"\n",
    "    return int(np.floor((np.pi/4)*np.sqrt(2**n)))"
   ]
  },
  {
   "cell_type": "code",
   "execution_count": 143,
   "metadata": {},
   "outputs": [],
   "source": [
    "def create_grover_circuit(f, qubits):\n",
    "    \"\"\"\n",
    "    This function will create the circuit.\n",
    "    \n",
    "    @param f: Input function that we want to encode\n",
    "    @param n: Number of qubits. This should be len(input to f)\n",
    "    \n",
    "    @return: Cirq Program\n",
    "    \"\"\"\n",
    "    # Create the gate for Zf.\n",
    "    zf = ZF()\n",
    "    zf.set_num_qubits(len(qubits))\n",
    "    zf.set_oracle(f)\n",
    "    \n",
    "    # Create the gate for Z0.\n",
    "    z0 = Z0()\n",
    "    z0.set_num_qubits(len(qubits))\n",
    "    z0.set_oracle(f)\n",
    "    \n",
    "    # Apply H^n to each qubit\n",
    "    yield cirq.H.on_each(*qubits)\n",
    "    \n",
    "    # Get number of iterations.\n",
    "    k = num_iters(len(qubits))\n",
    "    \n",
    "    # For each iteration, apply Zf, H^n, Z0, H^n\n",
    "    for i in range(k):\n",
    "        yield zf(*qubits)\n",
    "        yield cirq.H.on_each(*qubits)\n",
    "        yield z0(*qubits)\n",
    "        yield cirq.H.on_each(*qubits)\n",
    "        \n",
    "    # Add measurement node.\n",
    "    yield cirq.measure(*qubits, key=\"result\")"
   ]
  },
  {
   "cell_type": "code",
   "execution_count": 144,
   "metadata": {},
   "outputs": [],
   "source": [
    "def bitstring(bits):\n",
    "    return ''.join(str(int(b)) for b in bits)\n",
    "\n",
    "def run_circuit(f, n, n_trials, print_circuit=False):\n",
    "    \"\"\"\n",
    "    creates and runs a circuit\n",
    "    \n",
    "    @param f: Input function that we want to encode\n",
    "    @param n: Number of qubits. This should be 1+(len(input to f))\n",
    "    \n",
    "    @return: result\n",
    "    \"\"\"\n",
    "    simulator = cirq.Simulator()\n",
    "    qubits = cirq.LineQubit.range(n)\n",
    "    circuit = cirq.Circuit.from_ops(create_grover_circuit(f, qubits))\n",
    "    \n",
    "    if print_circuit:\n",
    "        print(\"Grovers circuit for {0} qubits\".format(n))\n",
    "        print(\"*\"*50)\n",
    "        print(circuit)\n",
    "        print(\"*\"*50)\n",
    "        print()\n",
    "    result = simulator.run(circuit, repetitions=n_trials)\n",
    "    frequencies = result.histogram(key='result', fold_func=bitstring)\n",
    "    \n",
    "    # Get the most common bitstring in the trials.\n",
    "    most_common_bitstring = frequencies.most_common(1)[0][0]\n",
    "    # Count of the most common bistring.\n",
    "    count = frequencies.get(most_common_bitstring)\n",
    "    print(\"f(x) = 1 for input x = {} with probability {:.3f}\".format(most_common_bitstring, count/n_trials))\n",
    "    return most_common_bitstring"
   ]
  },
  {
   "cell_type": "markdown",
   "metadata": {},
   "source": [
    "## Example circuit for 4 bits"
   ]
  },
  {
   "cell_type": "code",
   "execution_count": 145,
   "metadata": {},
   "outputs": [
    {
     "name": "stdout",
     "output_type": "stream",
     "text": [
      "Oracle f has f(x) = 1 for x = [1, 0, 1, 0]\n",
      "\n",
      "\n",
      "Grovers circuit for 4 qubits\n",
      "**************************************************\n",
      "0: ───H───Zf^4───H───Z0^4───H───Zf^4───H───Z0^4───H───Zf^4───H───Z0^4───H───M('result')───\n",
      "          │          │          │          │          │          │          │\n",
      "1: ───H───#2─────H───#2─────H───#2─────H───#2─────H───#2─────H───#2─────H───M─────────────\n",
      "          │          │          │          │          │          │          │\n",
      "2: ───H───#3─────H───#3─────H───#3─────H───#3─────H───#3─────H───#3─────H───M─────────────\n",
      "          │          │          │          │          │          │          │\n",
      "3: ───H───#4─────H───#4─────H───#4─────H───#4─────H───#4─────H───#4─────H───M─────────────\n",
      "**************************************************\n",
      "\n",
      "f(x) = 1 for input x = 1010 with probability 0.964\n"
     ]
    },
    {
     "data": {
      "text/plain": [
       "'1010'"
      ]
     },
     "execution_count": 145,
     "metadata": {},
     "output_type": "execute_result"
    }
   ],
   "source": [
    "lst_bitseq = list(map(list, itertools.product([0, 1], repeat=4)))\n",
    "\n",
    "fx = lst_bitseq[10]\n",
    "print(\"Oracle f has f(x) = 1 for x = {0}\".format(fx))\n",
    "print()\n",
    "print()\n",
    "run_circuit(lambda x: 1 if x == fx else 0, 4, 1000, print_circuit=True)"
   ]
  },
  {
   "cell_type": "markdown",
   "metadata": {},
   "source": [
    "# Do we see if different functions give different execution times?"
   ]
  },
  {
   "cell_type": "markdown",
   "metadata": {},
   "source": [
    "Running our circuit for all 16 possible functions for n=4"
   ]
  },
  {
   "cell_type": "code",
   "execution_count": 146,
   "metadata": {
    "scrolled": true
   },
   "outputs": [
    {
     "name": "stdout",
     "output_type": "stream",
     "text": [
      "f(x) = 1 for input x = 0000 with probability 0.971\n",
      "f(x) = 1 for input x = 0001 with probability 0.967\n",
      "f(x) = 1 for input x = 0010 with probability 0.966\n",
      "f(x) = 1 for input x = 0011 with probability 0.955\n",
      "f(x) = 1 for input x = 0100 with probability 0.964\n",
      "f(x) = 1 for input x = 0101 with probability 0.963\n",
      "f(x) = 1 for input x = 0110 with probability 0.964\n",
      "f(x) = 1 for input x = 0111 with probability 0.961\n",
      "f(x) = 1 for input x = 1000 with probability 0.961\n",
      "f(x) = 1 for input x = 1001 with probability 0.962\n",
      "f(x) = 1 for input x = 1010 with probability 0.960\n",
      "f(x) = 1 for input x = 1011 with probability 0.970\n",
      "f(x) = 1 for input x = 1100 with probability 0.958\n",
      "f(x) = 1 for input x = 1101 with probability 0.964\n",
      "f(x) = 1 for input x = 1110 with probability 0.956\n",
      "f(x) = 1 for input x = 1111 with probability 0.956\n"
     ]
    }
   ],
   "source": [
    "time_it_took = []\n",
    "lst_bitseq = list(map(list, itertools.product([0, 1], repeat=4)))\n",
    "\n",
    "for i in range(len(lst_bitseq)):\n",
    "    start = time.time()\n",
    "    run_circuit(lambda x: 1 if x == lst_bitseq[i] else 0, 4,1000)\n",
    "    end = time.time()\n",
    "    time_it_took.append(end-start)"
   ]
  },
  {
   "cell_type": "markdown",
   "metadata": {},
   "source": [
    "### Note that for all the 16 cases for n=4 we have almost same runtime"
   ]
  },
  {
   "cell_type": "code",
   "execution_count": 147,
   "metadata": {},
   "outputs": [
    {
     "data": {
      "image/png": "[encoded data removed]",
      "text/plain": [
       "<Figure size 432x288 with 1 Axes>"
      ]
     },
     "metadata": {
      "needs_background": "light"
     },
     "output_type": "display_data"
    }
   ],
   "source": [
    "%matplotlib inline\n",
    "plt.bar(np.arange(16), time_it_took)\n",
    "plt.show()"
   ]
  },
  {
   "cell_type": "markdown",
   "metadata": {},
   "source": [
    "# Here we plot the runtime as n increases\n",
    "\n",
    "We plot time taken as n goes from 1 to 11. We are also conducting 10000 trials (more than previous as we only have 5 functions instead of 16.\n",
    "\n",
    "Note that answer when n=1 is incorrect half the time because grovers algorithm is stuck in bell states for that case and we get 0 or 1 with equal probablity"
   ]
  },
  {
   "cell_type": "code",
   "execution_count": 149,
   "metadata": {},
   "outputs": [
    {
     "name": "stdout",
     "output_type": "stream",
     "text": [
      "f(x) = 1 for input x = 0 with probability 0.508\n",
      "f(x) = 1 for input x = 00 with probability 1.000\n",
      "f(x) = 1 for input x = 000 with probability 0.943\n",
      "f(x) = 1 for input x = 0000 with probability 0.960\n",
      "f(x) = 1 for input x = 00000 with probability 0.999\n",
      "f(x) = 1 for input x = 000000 with probability 0.996\n",
      "f(x) = 1 for input x = 0000000 with probability 0.996\n",
      "f(x) = 1 for input x = 00000000 with probability 1.000\n",
      "f(x) = 1 for input x = 000000000 with probability 1.000\n",
      "f(x) = 1 for input x = 0000000000 with probability 1.000\n",
      "f(x) = 1 for input x = 00000000000 with probability 1.000\n"
     ]
    }
   ],
   "source": [
    "time_it_took = []\n",
    "max_n = 11\n",
    "lst_bitseq = []\n",
    "for i in range(max_n):\n",
    "    lst_bitseq.append([0]*(i+1))\n",
    "    \n",
    "for i in range(len(lst_bitseq)):\n",
    "    start = time.time()\n",
    "    run_circuit(lambda x: 1 if x == lst_bitseq[i] else 0, i+1, 10000)\n",
    "    end = time.time()\n",
    "    time_it_took.append(end-start)"
   ]
  },
  {
   "cell_type": "code",
   "execution_count": 150,
   "metadata": {},
   "outputs": [
    {
     "data": {
      "image/png": "[encoded data removed]",
      "text/plain": [
       "<Figure size 432x288 with 1 Axes>"
      ]
     },
     "metadata": {
      "needs_background": "light"
     },
     "output_type": "display_data"
    }
   ],
   "source": [
    "%matplotlib inline\n",
    "plt.plot(list(range(1,max_n+1)), time_it_took)\n",
    "plt.title(\"Time taken (s) vs number of qubits\")\n",
    "plt.show()"
   ]
  },
  {
   "cell_type": "code",
   "execution_count": null,
   "metadata": {},
   "outputs": [],
   "source": []
  }
 ],
 "metadata": {
  "kernelspec": {
   "display_name": "Python 3",
   "language": "python",
   "name": "python3"
  },
  "language_info": {
   "codemirror_mode": {
    "name": "ipython",
    "version": 3
   },
   "file_extension": ".py",
   "mimetype": "text/x-python",
   "name": "python",
   "nbconvert_exporter": "python",
   "pygments_lexer": "ipython3",
   "version": "3.6.5"
  }
 },
 "nbformat": 4,
 "nbformat_minor": 2
}
