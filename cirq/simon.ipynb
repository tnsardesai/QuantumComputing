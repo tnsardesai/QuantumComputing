{
 "cells": [
  {
   "cell_type": "markdown",
   "metadata": {},
   "source": [
    "# Simon's algorithm in Cirq"
   ]
  },
  {
   "cell_type": "markdown",
   "metadata": {},
   "source": [
    "![TeamName](https://media.giphy.com/media/5wFjITVDtKD0wwJe7V/source.gif \"pied pipper\")"
   ]
  },
  {
   "cell_type": "code",
   "execution_count": 1,
   "metadata": {},
   "outputs": [],
   "source": [
    "import numpy as np\n",
    "import itertools\n",
    "import time\n",
    "import matplotlib.pyplot as plt\n",
    "\n",
    "import cirq\n",
    "from grove.simon.simon import create_valid_2to1_bitmap, create_1to1_bitmap\n",
    "from sympy import *"
   ]
  },
  {
   "cell_type": "code",
   "execution_count": 2,
   "metadata": {},
   "outputs": [],
   "source": [
    "class UF(cirq.Gate):\n",
    "    def set_num_qubits(self, n):\n",
    "        \"\"\"\n",
    "        Member function that sets the user defined number of qubits required \n",
    "        for this gate. This will help us build a custom unitary matrix for a\n",
    "        custom circuit.\n",
    "        \n",
    "        @param n: The number of qubits. \n",
    "        \"\"\"\n",
    "        self.n = n\n",
    "        \n",
    "    def num_qubits(self):\n",
    "        \"\"\"\n",
    "        Member function that returns the number of qubits the gate works on. \n",
    "        \"\"\"\n",
    "        return self.n\n",
    "    \n",
    "    def set_oracle(self, f):\n",
    "        \"\"\"\n",
    "        Member function that sets the oracle function that we are trying to uncover. \n",
    "        \"\"\"\n",
    "        self.f = f\n",
    "        \n",
    "    def _unitary_(self):\n",
    "        \"\"\"\n",
    "        Member function that returns the unitary matrix for the UF gate. \n",
    "        \"\"\"\n",
    "        return self.create_Uf(self.f, self.n)\n",
    "    \n",
    "    def create_Uf(self, f, n):\n",
    "        \"\"\"\n",
    "        Creats Uf matrix needed in simons algorithm\n",
    "\n",
    "        @param f: Input function that we want to encode\n",
    "        @param n: Number of qubits. 2*(len(input to f))\n",
    "\n",
    "        @return: Numpy matrix Uf\n",
    "        \"\"\"\n",
    "        dim = 2**n\n",
    "        # creating a 2^n x 2^n zeros matrix. \n",
    "        Uf = np.zeros((dim, dim), dtype=int)\n",
    "        # This creates a list of the different permutations of n bits. \n",
    "        lst_bitseq = list(map(list, itertools.product([0, 1], repeat=n)))\n",
    "        for col, bitseq in enumerate(lst_bitseq):\n",
    "            # applying the operation on the last helper bit. \n",
    "            last_bits = [x^y for x,y in zip(bitseq[int(n/2):], f(bitseq[:int(n/2)]))] # b+f(x)\n",
    "            final_bitseq = [bit for bit in bitseq[:int(n/2)]] + [bit for bit in last_bits]\n",
    "            # using the To-Form method discussed in class to help create the Uf matrix. \n",
    "            Uf[lst_bitseq.index(final_bitseq), col] = 1\n",
    "        return Uf"
   ]
  },
  {
   "cell_type": "code",
   "execution_count": 3,
   "metadata": {},
   "outputs": [],
   "source": [
    "def create_simon_circuit(f, qubits):\n",
    "    \"\"\"\n",
    "    This function will create the program.\n",
    "    \n",
    "    @param f: Input function that we want to encode\n",
    "    @param n: Number of qubits. 2*len(input to f)\n",
    "    \n",
    "    @return: Pyquil Program\n",
    "    \"\"\"\n",
    "    uf = UF()\n",
    "    uf.set_num_qubits(len(qubits))\n",
    "    uf.set_oracle(f)\n",
    "    \n",
    "    yield cirq.H.on_each(*qubits[:int(len(qubits)/2)])\n",
    "    yield uf(*qubits)\n",
    "    yield cirq.H.on_each(*qubits[:int(len(qubits)/2)])\n",
    "    \n",
    "    yield cirq.measure(*qubits[:int(len(qubits)/2)], key=\"result\")"
   ]
  },
  {
   "cell_type": "code",
   "execution_count": 4,
   "metadata": {},
   "outputs": [],
   "source": [
    "def bitstring(bits):\n",
    "    return ''.join(str(int(b)) for b in bits)"
   ]
  },
  {
   "cell_type": "code",
   "execution_count": 5,
   "metadata": {},
   "outputs": [],
   "source": [
    "def run_and_build_matrix(frequencies,n):\n",
    "    \"\"\"\n",
    "    Given the result from circuit it build a matrix of the equations\n",
    "    \n",
    "    @param frequencies: result received from run_and_measure\n",
    "    @param n: length of input to f\n",
    "    \n",
    "    @return: Matrix with each row as y_i\n",
    "    \"\"\"\n",
    "    \n",
    "    all_combinations = itertools.combinations(frequencies.keys(),n-1)\n",
    "    \n",
    "    for comb in all_combinations:\n",
    "        A= []\n",
    "        for k in comb:\n",
    "            A.append([int(v_) for v_ in k])\n",
    "        A = Matrix(A)\n",
    "        if A.rref()[0].row(-1) == Matrix([[0]*n]):\n",
    "            continue\n",
    "        else:\n",
    "            return [abs(x[0]) for x in A.nullspace()[0].tolist()]\n",
    "    return None"
   ]
  },
  {
   "cell_type": "code",
   "execution_count": 6,
   "metadata": {},
   "outputs": [],
   "source": [
    "def run_circuit(f, n, m, print_circuit=False):\n",
    "    \"\"\"\n",
    "    creates and runs a circuit\n",
    "    \n",
    "    @param f: Input function that we want to encode\n",
    "    @param n: (len(input to f))\n",
    "    @param m: m decides the number of times we run the loop. Higher m means\n",
    "                higher probablity of finding s.\n",
    "    \n",
    "    @return: result\n",
    "    \"\"\"\n",
    "    simulator = cirq.Simulator()\n",
    "    qubits = cirq.LineQubit.range(2*n)\n",
    "    circuit = cirq.Circuit.from_ops(create_simon_circuit(f, qubits))\n",
    "    if print_circuit:\n",
    "        print(\"Simons circuit for {0} qubits\".format(2*n))\n",
    "        print(\"*\"*50)\n",
    "        print(circuit)\n",
    "        print(\"*\"*50)\n",
    "        print()\n",
    "    result = simulator.run(circuit, repetitions=(n-1)*4*m)\n",
    "    frequencies = result.histogram(key='result', fold_func=bitstring)\n",
    "    A = run_and_build_matrix(frequencies,n)\n",
    "    print(A)\n",
    "    if A is None:\n",
    "        print(\"After running n-1 trials 4*m times with m={} we have \\\n",
    "          not found a set of linearly independent equations\".format(m))\n",
    "    else:\n",
    "        if f([0]*n) == f(A):\n",
    "            print(\"We have found s={}\".format(''.join([str(x) for x in A])))\n",
    "        else:\n",
    "            print(\"We have found s={}\".format('0'*n))"
   ]
  },
  {
   "cell_type": "code",
   "execution_count": 7,
   "metadata": {},
   "outputs": [],
   "source": [
    "def get_func_2to1(s):\n",
    "    \"\"\"\n",
    "    This function can be used to build a test case for given s\n",
    "    Note that this function doesn't do any validity checks so make sure you give correct s\n",
    "    \n",
    "    @param s: input s\n",
    "    \n",
    "    @return: 2 to 1 function that takes x and returns mapping based on s\n",
    "    \"\"\"\n",
    "    def func(x):\n",
    "        mapping = create_valid_2to1_bitmap(mask=s,random_seed=42)\n",
    "        return [int(i) for i in list(mapping[''.join(str(a) for a in x)])]\n",
    "    return func"
   ]
  },
  {
   "cell_type": "code",
   "execution_count": 8,
   "metadata": {},
   "outputs": [],
   "source": [
    "def get_func_1to1(s):\n",
    "    \"\"\"\n",
    "    This function can be used to build a test case for given s\n",
    "    Note that this function doesn't do any validity checks so make sure you give correct s\n",
    "    \n",
    "    @param s: input s\n",
    "    \n",
    "    @return: 1 to 1 function that takes x and returns mapping based on s\n",
    "    \"\"\"\n",
    "    def func(x):\n",
    "        mapping = create_1to1_bitmap(mask=s)\n",
    "        return [int(i) for i in list(mapping[''.join(str(a) for a in x)])]\n",
    "    return func"
   ]
  },
  {
   "cell_type": "markdown",
   "metadata": {},
   "source": [
    "### First show that it works for 1to1 mapping."
   ]
  },
  {
   "cell_type": "code",
   "execution_count": 9,
   "metadata": {
    "scrolled": false
   },
   "outputs": [
    {
     "name": "stdout",
     "output_type": "stream",
     "text": [
      "Simons circuit for 6 qubits\n",
      "**************************************************\n",
      "0: ───H───<__main__.UF object at 0x114fb7358>───H───M('result')───\n",
      "          │                                         │\n",
      "1: ───H───#2────────────────────────────────────H───M─────────────\n",
      "          │                                         │\n",
      "2: ───H───#3────────────────────────────────────H───M─────────────\n",
      "          │\n",
      "3: ───────#4──────────────────────────────────────────────────────\n",
      "          │\n",
      "4: ───────#5──────────────────────────────────────────────────────\n",
      "          │\n",
      "5: ───────#6──────────────────────────────────────────────────────\n",
      "**************************************************\n",
      "\n",
      "[1, 1, 0]\n",
      "We have found s=000\n"
     ]
    }
   ],
   "source": [
    "run_circuit(get_func_1to1('110'),3,10, print_circuit=True)"
   ]
  },
  {
   "cell_type": "code",
   "execution_count": 10,
   "metadata": {},
   "outputs": [
    {
     "name": "stdout",
     "output_type": "stream",
     "text": [
      "Simons circuit for 4 qubits\n",
      "**************************************************\n",
      "0: ───H───<__main__.UF object at 0x11e12bb00>───H───M('result')───\n",
      "          │                                         │\n",
      "1: ───H───#2────────────────────────────────────H───M─────────────\n",
      "          │\n",
      "2: ───────#3──────────────────────────────────────────────────────\n",
      "          │\n",
      "3: ───────#4──────────────────────────────────────────────────────\n",
      "**************************************************\n",
      "\n",
      "[0, 1]\n",
      "We have found s=00\n"
     ]
    }
   ],
   "source": [
    "run_circuit(get_func_1to1('11'),2,10, print_circuit=True)"
   ]
  },
  {
   "cell_type": "markdown",
   "metadata": {},
   "source": [
    "# Verify correctness for 2to1 and check if we see different functions give different execution times?"
   ]
  },
  {
   "cell_type": "markdown",
   "metadata": {},
   "source": [
    "We think it doesn't make sense for testing how long it takes for simons problem as getting n-1 linearly independent solutions is completely based on chance. Anyways below we have the graph for comparing the 4 cases when n=4. (Only looking at 2to1 mapping functions)"
   ]
  },
  {
   "cell_type": "code",
   "execution_count": 11,
   "metadata": {
    "scrolled": true
   },
   "outputs": [
    {
     "name": "stdout",
     "output_type": "stream",
     "text": [
      "[1, 0, 0]\n",
      "We have found s=100\n",
      "[1, 0, 1]\n",
      "We have found s=101\n",
      "[1, 1, 0]\n",
      "We have found s=110\n",
      "[1, 1, 1]\n",
      "We have found s=111\n"
     ]
    }
   ],
   "source": [
    "time_it_took = []\n",
    "lst_bitseq = ['100','101','110','111']\n",
    "\n",
    "for i in range(len(lst_bitseq)):\n",
    "    start = time.time()\n",
    "    run_circuit(get_func_2to1(lst_bitseq[i]), 3,10)\n",
    "    end = time.time()\n",
    "    time_it_took.append(end-start)"
   ]
  },
  {
   "cell_type": "code",
   "execution_count": 12,
   "metadata": {},
   "outputs": [
    {
     "data": {
      "image/png": "[encoded data removed]",
      "text/plain": [
       "<Figure size 432x288 with 1 Axes>"
      ]
     },
     "metadata": {
      "needs_background": "light"
     },
     "output_type": "display_data"
    }
   ],
   "source": [
    "%matplotlib inline\n",
    "plt.bar(np.arange(4), time_it_took)\n",
    "plt.show()"
   ]
  },
  {
   "cell_type": "markdown",
   "metadata": {},
   "source": [
    "# Here we plot the runtime as n increases\n",
    "\n",
    "We were not able to run simons algorithm for n=4 in a realistic amount of time and it doens't make sense to run with n=1. So only plotting the result for n=2 and n=3. Anyways this will also face the same issue of taking variable amount of time because it is non-deterministic"
   ]
  },
  {
   "cell_type": "code",
   "execution_count": 13,
   "metadata": {},
   "outputs": [
    {
     "name": "stdout",
     "output_type": "stream",
     "text": [
      "[1, 1]\n",
      "We have found s=11\n",
      "[1, 1, 1]\n",
      "We have found s=111\n",
      "[1, 1, 1, 1]\n",
      "We have found s=1111\n",
      "[1, 1, 1, 1, 1]\n",
      "We have found s=11111\n"
     ]
    }
   ],
   "source": [
    "time_it_took = []\n",
    "lst_bitseq = ['11','111','1111','11111']\n",
    "\n",
    "for i in range(4):\n",
    "    start = time.time()\n",
    "    run_circuit(get_func_2to1(lst_bitseq[i]), i+2,10)\n",
    "    end = time.time()\n",
    "    time_it_took.append(end-start)"
   ]
  },
  {
   "cell_type": "code",
   "execution_count": 14,
   "metadata": {},
   "outputs": [
    {
     "data": {
      "image/png": "[encoded data removed]",
      "text/plain": [
       "<Figure size 432x288 with 1 Axes>"
      ]
     },
     "metadata": {
      "needs_background": "light"
     },
     "output_type": "display_data"
    }
   ],
   "source": [
    "%matplotlib inline\n",
    "plt.plot([2,3,4,5], time_it_took)\n",
    "plt.show()"
   ]
  },
  {
   "cell_type": "markdown",
   "metadata": {},
   "source": [
    "# How to use our code?\n",
    "\n",
    "Running this is straightforward. We have a function called run_circuit which takes 3 arguments. The first argument is the function that we are using. This function can be easily built using get_func_2to1 or get_func_1to1 by passing an s value. 2nd argument is length of the input to this function. 3rd argument is m which controlls the number of trials. Higher value of m implies higher chance of finding s. For given m we can say that the probablity of not finding s is lower than e^-m. This is why in our experiments we have used m=10"
   ]
  }
 ],
 "metadata": {
  "kernelspec": {
   "display_name": "Python 3",
   "language": "python",
   "name": "python3"
  },
  "language_info": {
   "codemirror_mode": {
    "name": "ipython",
    "version": 3
   },
   "file_extension": ".py",
   "mimetype": "text/x-python",
   "name": "python",
   "nbconvert_exporter": "python",
   "pygments_lexer": "ipython3",
   "version": "3.7.2"
  }
 },
 "nbformat": 4,
 "nbformat_minor": 2
}
