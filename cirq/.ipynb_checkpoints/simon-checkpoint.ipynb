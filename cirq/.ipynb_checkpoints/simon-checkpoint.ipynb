{
 "cells": [
  {
   "cell_type": "markdown",
   "metadata": {},
   "source": [
    "# Simon's algorithm in Cirq"
   ]
  },
  {
   "cell_type": "markdown",
   "metadata": {},
   "source": [
    "![TeamName](https://media.giphy.com/media/5wFjITVDtKD0wwJe7V/source.gif \"pied pipper\")"
   ]
  },
  {
   "cell_type": "code",
   "execution_count": 2,
   "metadata": {},
   "outputs": [
    {
     "name": "stdout",
     "output_type": "stream",
     "text": [
      "Requirement already satisfied: cirq in /Users/arnavgarg/.pyenv/versions/3.7.0/Python.framework/Versions/3.7/lib/python3.7/site-packages (0.5.0)\n",
      "Requirement already satisfied: google-api-python-client~=1.6 in /Users/arnavgarg/.pyenv/versions/3.7.0/Python.framework/Versions/3.7/lib/python3.7/site-packages (from cirq) (1.7.9)\n",
      "Requirement already satisfied: sortedcontainers~=2.0 in /Users/arnavgarg/.pyenv/versions/3.7.0/Python.framework/Versions/3.7/lib/python3.7/site-packages (from cirq) (2.1.0)\n",
      "Requirement already satisfied: protobuf~=3.5 in /Users/arnavgarg/.pyenv/versions/3.7.0/Python.framework/Versions/3.7/lib/python3.7/site-packages (from cirq) (3.7.0)\n",
      "Requirement already satisfied: requests~=2.18 in /Users/arnavgarg/.pyenv/versions/3.7.0/Python.framework/Versions/3.7/lib/python3.7/site-packages (from cirq) (2.22.0)\n",
      "Requirement already satisfied: numpy~=1.12 in /Users/arnavgarg/.pyenv/versions/3.7.0/Python.framework/Versions/3.7/lib/python3.7/site-packages (from cirq) (1.15.4)\n",
      "Requirement already satisfied: sympy in /Users/arnavgarg/.pyenv/versions/3.7.0/Python.framework/Versions/3.7/lib/python3.7/site-packages (from cirq) (1.4)\n",
      "Requirement already satisfied: scipy in /Users/arnavgarg/.pyenv/versions/3.7.0/Python.framework/Versions/3.7/lib/python3.7/site-packages (from cirq) (1.1.0)\n",
      "Requirement already satisfied: networkx~=2.1 in /Users/arnavgarg/.pyenv/versions/3.7.0/Python.framework/Versions/3.7/lib/python3.7/site-packages (from cirq) (2.3)\n",
      "Requirement already satisfied: typing-extensions in /Users/arnavgarg/.pyenv/versions/3.7.0/Python.framework/Versions/3.7/lib/python3.7/site-packages (from cirq) (3.7.2)\n",
      "Requirement already satisfied: matplotlib~=2.2 in /Users/arnavgarg/.pyenv/versions/3.7.0/Python.framework/Versions/3.7/lib/python3.7/site-packages (from cirq) (2.2.4)\n",
      "Requirement already satisfied: google-auth>=1.4.1 in /Users/arnavgarg/.pyenv/versions/3.7.0/Python.framework/Versions/3.7/lib/python3.7/site-packages (from google-api-python-client~=1.6->cirq) (1.6.3)\n",
      "Requirement already satisfied: google-auth-httplib2>=0.0.3 in /Users/arnavgarg/.pyenv/versions/3.7.0/Python.framework/Versions/3.7/lib/python3.7/site-packages (from google-api-python-client~=1.6->cirq) (0.0.3)\n",
      "Requirement already satisfied: six<2dev,>=1.6.1 in /Users/arnavgarg/.pyenv/versions/3.7.0/Python.framework/Versions/3.7/lib/python3.7/site-packages (from google-api-python-client~=1.6->cirq) (1.11.0)\n",
      "Requirement already satisfied: httplib2<1dev,>=0.9.2 in /Users/arnavgarg/.pyenv/versions/3.7.0/Python.framework/Versions/3.7/lib/python3.7/site-packages (from google-api-python-client~=1.6->cirq) (0.12.3)\n",
      "Requirement already satisfied: uritemplate<4dev,>=3.0.0 in /Users/arnavgarg/.pyenv/versions/3.7.0/Python.framework/Versions/3.7/lib/python3.7/site-packages (from google-api-python-client~=1.6->cirq) (3.0.0)\n",
      "Requirement already satisfied: setuptools in /Users/arnavgarg/.pyenv/versions/3.7.0/Python.framework/Versions/3.7/lib/python3.7/site-packages (from protobuf~=3.5->cirq) (39.0.1)\n",
      "Requirement already satisfied: chardet<3.1.0,>=3.0.2 in /Users/arnavgarg/.pyenv/versions/3.7.0/Python.framework/Versions/3.7/lib/python3.7/site-packages (from requests~=2.18->cirq) (3.0.4)\n",
      "Requirement already satisfied: certifi>=2017.4.17 in /Users/arnavgarg/.pyenv/versions/3.7.0/Python.framework/Versions/3.7/lib/python3.7/site-packages (from requests~=2.18->cirq) (2019.3.9)\n",
      "Requirement already satisfied: idna<2.9,>=2.5 in /Users/arnavgarg/.pyenv/versions/3.7.0/Python.framework/Versions/3.7/lib/python3.7/site-packages (from requests~=2.18->cirq) (2.8)\n",
      "Requirement already satisfied: urllib3!=1.25.0,!=1.25.1,<1.26,>=1.21.1 in /Users/arnavgarg/.pyenv/versions/3.7.0/Python.framework/Versions/3.7/lib/python3.7/site-packages (from requests~=2.18->cirq) (1.25.2)\n",
      "Requirement already satisfied: mpmath>=0.19 in /Users/arnavgarg/.pyenv/versions/3.7.0/Python.framework/Versions/3.7/lib/python3.7/site-packages (from sympy->cirq) (1.1.0)\n",
      "Requirement already satisfied: decorator>=4.3.0 in /Users/arnavgarg/.pyenv/versions/3.7.0/Python.framework/Versions/3.7/lib/python3.7/site-packages (from networkx~=2.1->cirq) (4.4.0)\n",
      "Requirement already satisfied: python-dateutil>=2.1 in /Users/arnavgarg/.pyenv/versions/3.7.0/Python.framework/Versions/3.7/lib/python3.7/site-packages (from matplotlib~=2.2->cirq) (2.6.1)\n",
      "Requirement already satisfied: pytz in /Users/arnavgarg/.pyenv/versions/3.7.0/Python.framework/Versions/3.7/lib/python3.7/site-packages (from matplotlib~=2.2->cirq) (2018.9)\n",
      "Requirement already satisfied: kiwisolver>=1.0.1 in /Users/arnavgarg/.pyenv/versions/3.7.0/Python.framework/Versions/3.7/lib/python3.7/site-packages (from matplotlib~=2.2->cirq) (1.0.1)\n",
      "Requirement already satisfied: pyparsing!=2.0.4,!=2.1.2,!=2.1.6,>=2.0.1 in /Users/arnavgarg/.pyenv/versions/3.7.0/Python.framework/Versions/3.7/lib/python3.7/site-packages (from matplotlib~=2.2->cirq) (2.3.0)\n",
      "Requirement already satisfied: cycler>=0.10 in /Users/arnavgarg/.pyenv/versions/3.7.0/Python.framework/Versions/3.7/lib/python3.7/site-packages (from matplotlib~=2.2->cirq) (0.10.0)\n",
      "Requirement already satisfied: cachetools>=2.0.0 in /Users/arnavgarg/.pyenv/versions/3.7.0/Python.framework/Versions/3.7/lib/python3.7/site-packages (from google-auth>=1.4.1->google-api-python-client~=1.6->cirq) (3.1.1)\n",
      "Requirement already satisfied: rsa>=3.1.4 in /Users/arnavgarg/.pyenv/versions/3.7.0/Python.framework/Versions/3.7/lib/python3.7/site-packages (from google-auth>=1.4.1->google-api-python-client~=1.6->cirq) (4.0)\n",
      "Requirement already satisfied: pyasn1-modules>=0.2.1 in /Users/arnavgarg/.pyenv/versions/3.7.0/Python.framework/Versions/3.7/lib/python3.7/site-packages (from google-auth>=1.4.1->google-api-python-client~=1.6->cirq) (0.2.5)\n",
      "Requirement already satisfied: pyasn1>=0.1.3 in /Users/arnavgarg/.pyenv/versions/3.7.0/Python.framework/Versions/3.7/lib/python3.7/site-packages (from rsa>=3.1.4->google-auth>=1.4.1->google-api-python-client~=1.6->cirq) (0.4.5)\n",
      "\u001b[33mYou are using pip version 18.1, however version 19.1.1 is available.\n",
      "You should consider upgrading via the 'pip install --upgrade pip' command.\u001b[0m\n",
      "Requirement already satisfied: quantum-grove in /Users/arnavgarg/.pyenv/versions/3.7.0/Python.framework/Versions/3.7/lib/python3.7/site-packages (1.7.0)\n",
      "Requirement already satisfied: numpy in /Users/arnavgarg/.pyenv/versions/3.7.0/Python.framework/Versions/3.7/lib/python3.7/site-packages (from quantum-grove) (1.15.4)\n",
      "Requirement already satisfied: funcsigs in /Users/arnavgarg/.pyenv/versions/3.7.0/Python.framework/Versions/3.7/lib/python3.7/site-packages (from quantum-grove) (1.0.2)\n",
      "Requirement already satisfied: mock in /Users/arnavgarg/.pyenv/versions/3.7.0/Python.framework/Versions/3.7/lib/python3.7/site-packages (from quantum-grove) (2.0.0)\n",
      "Requirement already satisfied: pyquil>=1.6.1 in /Users/arnavgarg/.pyenv/versions/3.7.0/Python.framework/Versions/3.7/lib/python3.7/site-packages (from quantum-grove) (2.7.2)\n",
      "Requirement already satisfied: networkx in /Users/arnavgarg/.pyenv/versions/3.7.0/Python.framework/Versions/3.7/lib/python3.7/site-packages (from quantum-grove) (2.3)\n",
      "Requirement already satisfied: matplotlib in /Users/arnavgarg/.pyenv/versions/3.7.0/Python.framework/Versions/3.7/lib/python3.7/site-packages (from quantum-grove) (2.2.4)\n",
      "Requirement already satisfied: scipy in /Users/arnavgarg/.pyenv/versions/3.7.0/Python.framework/Versions/3.7/lib/python3.7/site-packages (from quantum-grove) (1.1.0)\n",
      "Requirement already satisfied: pbr>=0.11 in /Users/arnavgarg/.pyenv/versions/3.7.0/Python.framework/Versions/3.7/lib/python3.7/site-packages (from mock->quantum-grove) (5.1.1)\n",
      "Requirement already satisfied: six>=1.9 in /Users/arnavgarg/.pyenv/versions/3.7.0/Python.framework/Versions/3.7/lib/python3.7/site-packages (from mock->quantum-grove) (1.11.0)\n",
      "Requirement already satisfied: immutables==0.6 in /Users/arnavgarg/.pyenv/versions/3.7.0/Python.framework/Versions/3.7/lib/python3.7/site-packages (from pyquil>=1.6.1->quantum-grove) (0.6)\n",
      "Requirement already satisfied: rpcq>=2.2.1 in /Users/arnavgarg/.pyenv/versions/3.7.0/Python.framework/Versions/3.7/lib/python3.7/site-packages (from pyquil>=1.6.1->quantum-grove) (2.6.1)\n",
      "Requirement already satisfied: antlr4-python3-runtime in /Users/arnavgarg/.pyenv/versions/3.7.0/Python.framework/Versions/3.7/lib/python3.7/site-packages (from pyquil>=1.6.1->quantum-grove) (4.7.2)\n",
      "Requirement already satisfied: requests in /Users/arnavgarg/.pyenv/versions/3.7.0/Python.framework/Versions/3.7/lib/python3.7/site-packages (from pyquil>=1.6.1->quantum-grove) (2.22.0)\n",
      "Requirement already satisfied: decorator>=4.3.0 in /Users/arnavgarg/.pyenv/versions/3.7.0/Python.framework/Versions/3.7/lib/python3.7/site-packages (from networkx->quantum-grove) (4.4.0)\n",
      "Requirement already satisfied: python-dateutil>=2.1 in /Users/arnavgarg/.pyenv/versions/3.7.0/Python.framework/Versions/3.7/lib/python3.7/site-packages (from matplotlib->quantum-grove) (2.6.1)\n",
      "Requirement already satisfied: cycler>=0.10 in /Users/arnavgarg/.pyenv/versions/3.7.0/Python.framework/Versions/3.7/lib/python3.7/site-packages (from matplotlib->quantum-grove) (0.10.0)\n",
      "Requirement already satisfied: pytz in /Users/arnavgarg/.pyenv/versions/3.7.0/Python.framework/Versions/3.7/lib/python3.7/site-packages (from matplotlib->quantum-grove) (2018.9)\n",
      "Requirement already satisfied: kiwisolver>=1.0.1 in /Users/arnavgarg/.pyenv/versions/3.7.0/Python.framework/Versions/3.7/lib/python3.7/site-packages (from matplotlib->quantum-grove) (1.0.1)\n",
      "Requirement already satisfied: pyparsing!=2.0.4,!=2.1.2,!=2.1.6,>=2.0.1 in /Users/arnavgarg/.pyenv/versions/3.7.0/Python.framework/Versions/3.7/lib/python3.7/site-packages (from matplotlib->quantum-grove) (2.3.0)\n",
      "Requirement already satisfied: ruamel.yaml in /Users/arnavgarg/.pyenv/versions/3.7.0/Python.framework/Versions/3.7/lib/python3.7/site-packages (from rpcq>=2.2.1->pyquil>=1.6.1->quantum-grove) (0.15.96)\n"
     ]
    },
    {
     "name": "stdout",
     "output_type": "stream",
     "text": [
      "Requirement already satisfied: msgpack>=0.6 in /Users/arnavgarg/.pyenv/versions/3.7.0/Python.framework/Versions/3.7/lib/python3.7/site-packages (from rpcq>=2.2.1->pyquil>=1.6.1->quantum-grove) (0.6.1)\n",
      "Requirement already satisfied: python-rapidjson in /Users/arnavgarg/.pyenv/versions/3.7.0/Python.framework/Versions/3.7/lib/python3.7/site-packages (from rpcq>=2.2.1->pyquil>=1.6.1->quantum-grove) (0.7.1)\n",
      "Requirement already satisfied: pyzmq>=17 in /Users/arnavgarg/.pyenv/versions/3.7.0/Python.framework/Versions/3.7/lib/python3.7/site-packages (from rpcq>=2.2.1->pyquil>=1.6.1->quantum-grove) (18.0.1)\n",
      "Requirement already satisfied: typing in /Users/arnavgarg/.pyenv/versions/3.7.0/Python.framework/Versions/3.7/lib/python3.7/site-packages (from rpcq>=2.2.1->pyquil>=1.6.1->quantum-grove) (3.6.6)\n",
      "Requirement already satisfied: future in /Users/arnavgarg/.pyenv/versions/3.7.0/Python.framework/Versions/3.7/lib/python3.7/site-packages (from rpcq>=2.2.1->pyquil>=1.6.1->quantum-grove) (0.16.0)\n",
      "Requirement already satisfied: idna<2.9,>=2.5 in /Users/arnavgarg/.pyenv/versions/3.7.0/Python.framework/Versions/3.7/lib/python3.7/site-packages (from requests->pyquil>=1.6.1->quantum-grove) (2.8)\n",
      "Requirement already satisfied: urllib3!=1.25.0,!=1.25.1,<1.26,>=1.21.1 in /Users/arnavgarg/.pyenv/versions/3.7.0/Python.framework/Versions/3.7/lib/python3.7/site-packages (from requests->pyquil>=1.6.1->quantum-grove) (1.25.2)\n",
      "Requirement already satisfied: chardet<3.1.0,>=3.0.2 in /Users/arnavgarg/.pyenv/versions/3.7.0/Python.framework/Versions/3.7/lib/python3.7/site-packages (from requests->pyquil>=1.6.1->quantum-grove) (3.0.4)\n",
      "Requirement already satisfied: certifi>=2017.4.17 in /Users/arnavgarg/.pyenv/versions/3.7.0/Python.framework/Versions/3.7/lib/python3.7/site-packages (from requests->pyquil>=1.6.1->quantum-grove) (2019.3.9)\n",
      "Requirement already satisfied: setuptools in /Users/arnavgarg/.pyenv/versions/3.7.0/Python.framework/Versions/3.7/lib/python3.7/site-packages (from kiwisolver>=1.0.1->matplotlib->quantum-grove) (39.0.1)\n",
      "\u001b[33mYou are using pip version 18.1, however version 19.1.1 is available.\n",
      "You should consider upgrading via the 'pip install --upgrade pip' command.\u001b[0m\n"
     ]
    }
   ],
   "source": [
    "!pip install cirq\n",
    "!pip install quantum-grove"
   ]
  },
  {
   "cell_type": "code",
   "execution_count": 3,
   "metadata": {},
   "outputs": [],
   "source": [
    "import numpy as np\n",
    "import itertools\n",
    "import time\n",
    "import matplotlib.pyplot as plt\n",
    "\n",
    "import cirq\n",
    "from grove.simon.simon import create_valid_2to1_bitmap, create_1to1_bitmap\n",
    "from sympy import *"
   ]
  },
  {
   "cell_type": "code",
   "execution_count": 4,
   "metadata": {},
   "outputs": [],
   "source": [
    "class UF(cirq.Gate):\n",
    "    def set_num_qubits(self, n):\n",
    "        \"\"\"\n",
    "        Member function that sets the user defined number of qubits required \n",
    "        for this gate. This will help us build a custom unitary matrix for a\n",
    "        custom circuit.\n",
    "        \n",
    "        @param n: The number of qubits. \n",
    "        \"\"\"\n",
    "        self.n = n\n",
    "        \n",
    "    def num_qubits(self):\n",
    "        \"\"\"\n",
    "        Member function that returns the number of qubits the gate works on. \n",
    "        \"\"\"\n",
    "        return self.n\n",
    "    \n",
    "    def set_oracle(self, f):\n",
    "        \"\"\"\n",
    "        Member function that sets the oracle function that we are trying to uncover. \n",
    "        \"\"\"\n",
    "        self.f = f\n",
    "        \n",
    "    def _unitary_(self):\n",
    "        \"\"\"\n",
    "        Member function that returns the unitary matrix for the UF gate. \n",
    "        \"\"\"\n",
    "        return self.create_Uf(self.f, self.n)\n",
    "    \n",
    "    def create_Uf(self, f, n):\n",
    "        \"\"\"\n",
    "        Creats Uf matrix needed in simons algorithm\n",
    "\n",
    "        @param f: Input function that we want to encode\n",
    "        @param n: Number of qubits. 2*(len(input to f))\n",
    "\n",
    "        @return: Numpy matrix Uf\n",
    "        \"\"\"\n",
    "        dim = 2**n\n",
    "        # creating a 2^n x 2^n zeros matrix. \n",
    "        Uf = np.zeros((dim, dim), dtype=int)\n",
    "        # This creates a list of the different permutations of n bits. \n",
    "        lst_bitseq = list(map(list, itertools.product([0, 1], repeat=n)))\n",
    "        for col, bitseq in enumerate(lst_bitseq):\n",
    "            # applying the operation on the last helper bit. \n",
    "            last_bits = [x^y for x,y in zip(bitseq[int(n/2):], f(bitseq[:int(n/2)]))] # b+f(x)\n",
    "            final_bitseq = [bit for bit in bitseq[:int(n/2)]] + [bit for bit in last_bits]\n",
    "            # using the To-Form method discussed in class to help create the Uf matrix. \n",
    "            Uf[lst_bitseq.index(final_bitseq), col] = 1\n",
    "        return Uf"
   ]
  },
  {
   "cell_type": "code",
   "execution_count": 48,
   "metadata": {},
   "outputs": [],
   "source": [
    "def create_simon_circuit(f, qubits):\n",
    "    \"\"\"\n",
    "    This function will create the program.\n",
    "    \n",
    "    @param f: Input function that we want to encode\n",
    "    @param n: Number of qubits. 2*len(input to f)\n",
    "    \n",
    "    @return: Pyquil Program\n",
    "    \"\"\"\n",
    "    uf = UF()\n",
    "    uf.set_num_qubits(len(qubits))\n",
    "    uf.set_oracle(f)\n",
    "    \n",
    "    yield cirq.H.on_each(*qubits[:int(len(qubits)/2)])\n",
    "#     yield uf(*qubits)\n",
    "#     yield cirq.H.on_each(*qubits[:int(len(qubits)/2)])\n",
    "    \n",
    "    yield cirq.measure(*qubits[:int(len(qubits)/2)], key=\"result\")"
   ]
  },
  {
   "cell_type": "code",
   "execution_count": 49,
   "metadata": {},
   "outputs": [],
   "source": [
    "def bitstring(bits):\n",
    "    return ''.join(str(int(b)) for b in bits)"
   ]
  },
  {
   "cell_type": "code",
   "execution_count": 50,
   "metadata": {},
   "outputs": [],
   "source": [
    "def build_matrix(frequencies):\n",
    "    \"\"\"\n",
    "    Given the result from circuit it build a matrix of the equations\n",
    "    \n",
    "    @param res: result received from run_and_measure\n",
    "    @param n: length of input to f\n",
    "    \n",
    "    @return: Matrix with each row as y_i\n",
    "    \"\"\"\n",
    "    for v in frequencies.values():\n",
    "        # This means one y was repeated so we dont have linear independence\n",
    "        if v == 2:\n",
    "            return None\n",
    "    A = []\n",
    "    for k in frequencies.keys():\n",
    "        A.append([int(k_) for k_ in list(k)])\n",
    "\n",
    "    return Matrix(A)"
   ]
  },
  {
   "cell_type": "code",
   "execution_count": 51,
   "metadata": {
    "scrolled": true
   },
   "outputs": [],
   "source": [
    "#simulator = cirq.Simulator()\n",
    "#qubits = cirq.LineQubit.range(6)\n",
    "#circuit = cirq.Circuit.from_ops(create_simon_circuit(get_func_2to1('110'), qubits))\n",
    "#result = simulator.run(circuit, repetitions=2)\n",
    "#frequencies = result.histogram(key='result', fold_func=bitstring)\n",
    "#print(result)\n",
    "#print(frequencies)"
   ]
  },
  {
   "cell_type": "code",
   "execution_count": 53,
   "metadata": {},
   "outputs": [
    {
     "name": "stdout",
     "output_type": "stream",
     "text": [
      "Simons circuit for 8 qubits\n",
      "**************************************************\n",
      "0: ───H───M('result')───\n",
      "          │\n",
      "1: ───H───M─────────────\n",
      "          │\n",
      "2: ───H───M─────────────\n",
      "          │\n",
      "3: ───H───M─────────────\n",
      "**************************************************\n",
      "\n"
     ]
    },
    {
     "ename": "ValueError",
     "evalue": "XmonSimulator only accepts circuits using an XmonDevice. Maybe you forgot to pass a `device=` parameter into `cirq.Circuit`, or intended to set `new_device=` in your call to `cirq.google.optimized_for_xmon`? Alternatively, maybe you intended to use `cirq.Simulator()` instead?",
     "output_type": "error",
     "traceback": [
      "\u001b[0;31m---------------------------------------------------------------------------\u001b[0m",
      "\u001b[0;31mValueError\u001b[0m                                Traceback (most recent call last)",
      "\u001b[0;32m<ipython-input-53-c83054cf9b34>\u001b[0m in \u001b[0;36m<module>\u001b[0;34m()\u001b[0m\n\u001b[1;32m     42\u001b[0m     \u001b[0;32mreturn\u001b[0m\u001b[0;34m\u001b[0m\u001b[0m\n\u001b[1;32m     43\u001b[0m \u001b[0;34m\u001b[0m\u001b[0m\n\u001b[0;32m---> 44\u001b[0;31m \u001b[0mrun_circuit\u001b[0m\u001b[0;34m(\u001b[0m\u001b[0mget_func_2to1\u001b[0m\u001b[0;34m(\u001b[0m\u001b[0;34m'1011'\u001b[0m\u001b[0;34m)\u001b[0m\u001b[0;34m,\u001b[0m \u001b[0;36m4\u001b[0m\u001b[0;34m,\u001b[0m\u001b[0;36m10\u001b[0m\u001b[0;34m,\u001b[0m \u001b[0mprint_circuit\u001b[0m\u001b[0;34m=\u001b[0m\u001b[0;32mTrue\u001b[0m\u001b[0;34m)\u001b[0m\u001b[0;34m\u001b[0m\u001b[0m\n\u001b[0m",
      "\u001b[0;32m<ipython-input-53-c83054cf9b34>\u001b[0m in \u001b[0;36mrun_circuit\u001b[0;34m(f, n, m, print_circuit)\u001b[0m\n\u001b[1;32m     21\u001b[0m     \u001b[0;32mfor\u001b[0m \u001b[0mi\u001b[0m \u001b[0;32min\u001b[0m \u001b[0mrange\u001b[0m\u001b[0;34m(\u001b[0m\u001b[0;36m4\u001b[0m\u001b[0;34m*\u001b[0m\u001b[0mm\u001b[0m\u001b[0;34m)\u001b[0m\u001b[0;34m:\u001b[0m\u001b[0;34m\u001b[0m\u001b[0m\n\u001b[1;32m     22\u001b[0m         \u001b[0msimulator\u001b[0m \u001b[0;34m=\u001b[0m \u001b[0mcirq\u001b[0m\u001b[0;34m.\u001b[0m\u001b[0mgoogle\u001b[0m\u001b[0;34m.\u001b[0m\u001b[0mXmonSimulator\u001b[0m\u001b[0;34m(\u001b[0m\u001b[0;34m)\u001b[0m\u001b[0;34m\u001b[0m\u001b[0m\n\u001b[0;32m---> 23\u001b[0;31m         \u001b[0mresult\u001b[0m \u001b[0;34m=\u001b[0m \u001b[0msimulator\u001b[0m\u001b[0;34m.\u001b[0m\u001b[0msimulate\u001b[0m\u001b[0;34m(\u001b[0m\u001b[0mcircuit\u001b[0m\u001b[0;34m)\u001b[0m\u001b[0;34m\u001b[0m\u001b[0m\n\u001b[0m\u001b[1;32m     24\u001b[0m         \u001b[0mfrequencies\u001b[0m \u001b[0;34m=\u001b[0m \u001b[0mresult\u001b[0m\u001b[0;34m.\u001b[0m\u001b[0mhistogram\u001b[0m\u001b[0;34m(\u001b[0m\u001b[0mkey\u001b[0m\u001b[0;34m=\u001b[0m\u001b[0;34m'result'\u001b[0m\u001b[0;34m,\u001b[0m \u001b[0mfold_func\u001b[0m\u001b[0;34m=\u001b[0m\u001b[0mbitstring\u001b[0m\u001b[0;34m)\u001b[0m\u001b[0;34m\u001b[0m\u001b[0m\n\u001b[1;32m     25\u001b[0m         \u001b[0mprint\u001b[0m\u001b[0;34m(\u001b[0m\u001b[0;34m'***'\u001b[0m\u001b[0;34m)\u001b[0m\u001b[0;34m\u001b[0m\u001b[0m\n",
      "\u001b[0;32m~/.pyenv/versions/3.7.0/Python.framework/Versions/3.7/lib/python3.7/site-packages/cirq/sim/simulator.py\u001b[0m in \u001b[0;36msimulate\u001b[0;34m(self, program, param_resolver, qubit_order, initial_state)\u001b[0m\n\u001b[1;32m    209\u001b[0m             \u001b[0mstudy\u001b[0m\u001b[0;34m.\u001b[0m\u001b[0mParamResolver\u001b[0m\u001b[0;34m(\u001b[0m\u001b[0mparam_resolver\u001b[0m\u001b[0;34m)\u001b[0m\u001b[0;34m,\u001b[0m\u001b[0;34m\u001b[0m\u001b[0m\n\u001b[1;32m    210\u001b[0m             \u001b[0mqubit_order\u001b[0m\u001b[0;34m,\u001b[0m\u001b[0;34m\u001b[0m\u001b[0m\n\u001b[0;32m--> 211\u001b[0;31m             initial_state)[0]\n\u001b[0m\u001b[1;32m    212\u001b[0m \u001b[0;34m\u001b[0m\u001b[0m\n\u001b[1;32m    213\u001b[0m     \u001b[0;34m@\u001b[0m\u001b[0mabc\u001b[0m\u001b[0;34m.\u001b[0m\u001b[0mabstractmethod\u001b[0m\u001b[0;34m\u001b[0m\u001b[0m\n",
      "\u001b[0;32m~/.pyenv/versions/3.7.0/Python.framework/Versions/3.7/lib/python3.7/site-packages/cirq/sim/simulator.py\u001b[0m in \u001b[0;36msimulate_sweep\u001b[0;34m(self, program, params, qubit_order, initial_state)\u001b[0m\n\u001b[1;32m    290\u001b[0m                                                           \u001b[0mparam_resolver\u001b[0m\u001b[0;34m,\u001b[0m\u001b[0;34m\u001b[0m\u001b[0m\n\u001b[1;32m    291\u001b[0m                                                           \u001b[0mqubit_order\u001b[0m\u001b[0;34m,\u001b[0m\u001b[0;34m\u001b[0m\u001b[0m\n\u001b[0;32m--> 292\u001b[0;31m                                                           initial_state)\n\u001b[0m\u001b[1;32m    293\u001b[0m             \u001b[0mmeasurements\u001b[0m \u001b[0;34m=\u001b[0m \u001b[0;34m{\u001b[0m\u001b[0;34m}\u001b[0m  \u001b[0;31m# type: Dict[str, np.ndarray]\u001b[0m\u001b[0;34m\u001b[0m\u001b[0m\n\u001b[1;32m    294\u001b[0m             \u001b[0;32mfor\u001b[0m \u001b[0mstep_result\u001b[0m \u001b[0;32min\u001b[0m \u001b[0mall_step_results\u001b[0m\u001b[0;34m:\u001b[0m\u001b[0;34m\u001b[0m\u001b[0m\n",
      "\u001b[0;32m~/.pyenv/versions/3.7.0/Python.framework/Versions/3.7/lib/python3.7/site-packages/cirq/sim/simulator.py\u001b[0m in \u001b[0;36msimulate_moment_steps\u001b[0;34m(self, circuit, param_resolver, qubit_order, initial_state)\u001b[0m\n\u001b[1;32m    332\u001b[0m             \u001b[0mstudy\u001b[0m\u001b[0;34m.\u001b[0m\u001b[0mParamResolver\u001b[0m\u001b[0;34m(\u001b[0m\u001b[0mparam_resolver\u001b[0m\u001b[0;34m)\u001b[0m\u001b[0;34m,\u001b[0m\u001b[0;34m\u001b[0m\u001b[0m\n\u001b[1;32m    333\u001b[0m             \u001b[0mqubit_order\u001b[0m\u001b[0;34m,\u001b[0m\u001b[0;34m\u001b[0m\u001b[0m\n\u001b[0;32m--> 334\u001b[0;31m             initial_state)\n\u001b[0m\u001b[1;32m    335\u001b[0m \u001b[0;34m\u001b[0m\u001b[0m\n\u001b[1;32m    336\u001b[0m     \u001b[0;34m@\u001b[0m\u001b[0mabc\u001b[0m\u001b[0;34m.\u001b[0m\u001b[0mabstractmethod\u001b[0m\u001b[0;34m\u001b[0m\u001b[0m\n",
      "\u001b[0;32m~/.pyenv/versions/3.7.0/Python.framework/Versions/3.7/lib/python3.7/site-packages/cirq/google/sim/xmon_simulator.py\u001b[0m in \u001b[0;36m_simulator_iterator\u001b[0;34m(self, circuit, param_resolver, qubit_order, initial_state, perform_measurements)\u001b[0m\n\u001b[1;32m    202\u001b[0m         \u001b[0mparam_resolver\u001b[0m \u001b[0;34m=\u001b[0m \u001b[0mparam_resolver\u001b[0m \u001b[0;32mor\u001b[0m \u001b[0mstudy\u001b[0m\u001b[0;34m.\u001b[0m\u001b[0mParamResolver\u001b[0m\u001b[0;34m(\u001b[0m\u001b[0;34m{\u001b[0m\u001b[0;34m}\u001b[0m\u001b[0;34m)\u001b[0m\u001b[0;34m\u001b[0m\u001b[0m\n\u001b[1;32m    203\u001b[0m         \u001b[0mcircuit\u001b[0m \u001b[0;34m=\u001b[0m \u001b[0mprotocols\u001b[0m\u001b[0;34m.\u001b[0m\u001b[0mresolve_parameters\u001b[0m\u001b[0;34m(\u001b[0m\u001b[0mcircuit\u001b[0m\u001b[0;34m,\u001b[0m \u001b[0mparam_resolver\u001b[0m\u001b[0;34m)\u001b[0m\u001b[0;34m\u001b[0m\u001b[0m\n\u001b[0;32m--> 204\u001b[0;31m         \u001b[0m_verify_xmon_circuit\u001b[0m\u001b[0;34m(\u001b[0m\u001b[0mcircuit\u001b[0m\u001b[0;34m)\u001b[0m\u001b[0;34m\u001b[0m\u001b[0m\n\u001b[0m\u001b[1;32m    205\u001b[0m         \u001b[0mactual_initial_state\u001b[0m \u001b[0;34m=\u001b[0m \u001b[0;36m0\u001b[0m \u001b[0;32mif\u001b[0m \u001b[0minitial_state\u001b[0m \u001b[0;32mis\u001b[0m \u001b[0;32mNone\u001b[0m \u001b[0;32melse\u001b[0m \u001b[0minitial_state\u001b[0m\u001b[0;34m\u001b[0m\u001b[0m\n\u001b[1;32m    206\u001b[0m         return self._base_iterator(circuit,\n",
      "\u001b[0;32m~/.pyenv/versions/3.7.0/Python.framework/Versions/3.7/lib/python3.7/site-packages/cirq/google/sim/xmon_simulator.py\u001b[0m in \u001b[0;36m_verify_xmon_circuit\u001b[0;34m(circuit)\u001b[0m\n\u001b[1;32m     95\u001b[0m \u001b[0;32mdef\u001b[0m \u001b[0m_verify_xmon_circuit\u001b[0m\u001b[0;34m(\u001b[0m\u001b[0mcircuit\u001b[0m\u001b[0;34m:\u001b[0m \u001b[0mcircuits\u001b[0m\u001b[0;34m.\u001b[0m\u001b[0mCircuit\u001b[0m\u001b[0;34m)\u001b[0m\u001b[0;34m:\u001b[0m\u001b[0;34m\u001b[0m\u001b[0m\n\u001b[1;32m     96\u001b[0m     \u001b[0;32mif\u001b[0m \u001b[0;32mnot\u001b[0m \u001b[0misinstance\u001b[0m\u001b[0;34m(\u001b[0m\u001b[0mcircuit\u001b[0m\u001b[0;34m.\u001b[0m\u001b[0mdevice\u001b[0m\u001b[0;34m,\u001b[0m \u001b[0mxmon_device\u001b[0m\u001b[0;34m.\u001b[0m\u001b[0mXmonDevice\u001b[0m\u001b[0;34m)\u001b[0m\u001b[0;34m:\u001b[0m\u001b[0;34m\u001b[0m\u001b[0m\n\u001b[0;32m---> 97\u001b[0;31m         raise ValueError(\"XmonSimulator only accepts circuits \"\n\u001b[0m\u001b[1;32m     98\u001b[0m                          \u001b[0;34m\"using an XmonDevice. Maybe you forgot to pass \"\u001b[0m\u001b[0;34m\u001b[0m\u001b[0m\n\u001b[1;32m     99\u001b[0m                          \u001b[0;34m\"a `device=` parameter into `cirq.Circuit`, or \"\u001b[0m\u001b[0;34m\u001b[0m\u001b[0m\n",
      "\u001b[0;31mValueError\u001b[0m: XmonSimulator only accepts circuits using an XmonDevice. Maybe you forgot to pass a `device=` parameter into `cirq.Circuit`, or intended to set `new_device=` in your call to `cirq.google.optimized_for_xmon`? Alternatively, maybe you intended to use `cirq.Simulator()` instead?"
     ]
    }
   ],
   "source": [
    "def run_circuit(f, n, m, print_circuit=False):\n",
    "    \"\"\"\n",
    "    creates and runs a circuit\n",
    "    \n",
    "    @param f: Input function that we want to encode\n",
    "    @param n: (len(input to f))\n",
    "    @param m: m decides the number of times we run the loop. Higher m means\n",
    "                higher probablity of finding s.\n",
    "    \n",
    "    @return: result\n",
    "    \"\"\"\n",
    "    np.random.seed(int(time.time()))\n",
    "    qubits = cirq.LineQubit.range(2*n)\n",
    "    circuit = cirq.Circuit.from_ops(create_simon_circuit(f, qubits))\n",
    "    if print_circuit:\n",
    "        print(\"Simons circuit for {0} qubits\".format(2*n))\n",
    "        print(\"*\"*50)\n",
    "        print(circuit)\n",
    "        print(\"*\"*50)\n",
    "        print()\n",
    "    for i in range(4*m):  \n",
    "        simulator = cirq.Simulator()\n",
    "        result = simulator.run(circuit, repetitions=n+2)\n",
    "        frequencies = result.histogram(key='result', fold_func=bitstring)\n",
    "        print('***')\n",
    "        print(frequencies)\n",
    "#         A = build_matrix(frequencies)\n",
    "#         print(A)\n",
    "#         if A is None or A.rref()[0].row(-1) == Matrix([[0]*n]):\n",
    "#             # we have linearly dependent equations\n",
    "#             continue\n",
    "#         else:\n",
    "#             # we have found linearly independent equations so solve and end\n",
    "#             out = [abs(x[0]) for x in A.nullspace()[0].tolist()]\n",
    "#             if f([0]*n) == f(out):\n",
    "#                 print(\"We have found s={} on iteration number {}\".format(''.join([str(x) for x in out]),i+1))\n",
    "#                 return\n",
    "#             else:\n",
    "#                 print(\"We have found s={} on iteration number {}\".format('0'*n,i+1))\n",
    "#                 return\n",
    "    print(\"After running n-1 trials 4*m times with m={} we have \\\n",
    "          not found a set of linearly independent equations\".format(m))\n",
    "    return\n",
    "\n",
    "run_circuit(get_func_2to1('1011'), 4,10, print_circuit=True)"
   ]
  },
  {
   "cell_type": "code",
   "execution_count": 10,
   "metadata": {},
   "outputs": [],
   "source": [
    "def get_func_2to1(s):\n",
    "    \"\"\"\n",
    "    This function can be used to build a test case for given s\n",
    "    Note that this function doesn't do any validity checks so make sure you give correct s\n",
    "    \n",
    "    @param s: input s\n",
    "    \n",
    "    @return: 2 to 1 function that takes x and returns mapping based on s\n",
    "    \"\"\"\n",
    "    def func(x):\n",
    "        mapping = create_valid_2to1_bitmap(mask=s,random_seed=42)\n",
    "        return [int(i) for i in list(mapping[''.join(str(a) for a in x)])]\n",
    "    return func"
   ]
  },
  {
   "cell_type": "code",
   "execution_count": 11,
   "metadata": {},
   "outputs": [],
   "source": [
    "def get_func_1to1(s):\n",
    "    \"\"\"\n",
    "    This function can be used to build a test case for given s\n",
    "    Note that this function doesn't do any validity checks so make sure you give correct s\n",
    "    \n",
    "    @param s: input s\n",
    "    \n",
    "    @return: 1 to 1 function that takes x and returns mapping based on s\n",
    "    \"\"\"\n",
    "    def func(x):\n",
    "        mapping = create_1to1_bitmap(mask=s)\n",
    "        return [int(i) for i in list(mapping[''.join(str(a) for a in x)])]\n",
    "    return func"
   ]
  },
  {
   "cell_type": "markdown",
   "metadata": {},
   "source": [
    "### First show that it works for 1to1 mapping."
   ]
  },
  {
   "cell_type": "code",
   "execution_count": 42,
   "metadata": {
    "scrolled": false
   },
   "outputs": [
    {
     "name": "stdout",
     "output_type": "stream",
     "text": [
      "Simons circuit for 6 qubits\n",
      "**************************************************\n",
      "0: ───H───<__main__.UF object at 0x11cf16860>───H───M('result')───\n",
      "          │                                         │\n",
      "1: ───H───#2────────────────────────────────────H───M─────────────\n",
      "          │                                         │\n",
      "2: ───H───#3────────────────────────────────────H───M─────────────\n",
      "          │\n",
      "3: ───────#4──────────────────────────────────────────────────────\n",
      "          │\n",
      "4: ───────#5──────────────────────────────────────────────────────\n",
      "          │\n",
      "5: ───────#6──────────────────────────────────────────────────────\n",
      "**************************************************\n",
      "\n",
      "***\n",
      "Counter({'000': 1, '111': 1})\n",
      "Matrix([[0, 0, 0], [1, 1, 1]])\n",
      "***\n",
      "Counter({'001': 2})\n",
      "None\n",
      "***\n",
      "Counter({'000': 2})\n",
      "None\n",
      "***\n",
      "Counter({'001': 1, '110': 1})\n",
      "Matrix([[0, 0, 1], [1, 1, 0]])\n",
      "We have found s=000 on iteration number 4\n"
     ]
    }
   ],
   "source": [
    "run_circuit(get_func_1to1('110'),3,10, print_circuit=True)"
   ]
  },
  {
   "cell_type": "code",
   "execution_count": 43,
   "metadata": {},
   "outputs": [
    {
     "name": "stdout",
     "output_type": "stream",
     "text": [
      "Simons circuit for 4 qubits\n",
      "**************************************************\n",
      "0: ───H───<__main__.UF object at 0x11cf16278>───H───M('result')───\n",
      "          │                                         │\n",
      "1: ───H───#2────────────────────────────────────H───M─────────────\n",
      "          │\n",
      "2: ───────#3──────────────────────────────────────────────────────\n",
      "          │\n",
      "3: ───────#4──────────────────────────────────────────────────────\n",
      "**************************************************\n",
      "\n",
      "***\n",
      "Counter({'00': 1})\n",
      "Matrix([[0, 0]])\n",
      "***\n",
      "Counter({'11': 1})\n",
      "Matrix([[1, 1]])\n",
      "We have found s=00 on iteration number 2\n"
     ]
    }
   ],
   "source": [
    "run_circuit(get_func_1to1('11'),2,10, print_circuit=True)"
   ]
  },
  {
   "cell_type": "code",
   "execution_count": 44,
   "metadata": {},
   "outputs": [
    {
     "name": "stdout",
     "output_type": "stream",
     "text": [
      "Simons circuit for 8 qubits\n",
      "**************************************************\n",
      "0: ───H───<__main__.UF object at 0x11cf16dd8>───H───M('result')───\n",
      "          │                                         │\n",
      "1: ───H───#2────────────────────────────────────H───M─────────────\n",
      "          │                                         │\n",
      "2: ───H───#3────────────────────────────────────H───M─────────────\n",
      "          │                                         │\n",
      "3: ───H───#4────────────────────────────────────H───M─────────────\n",
      "          │\n",
      "4: ───────#5──────────────────────────────────────────────────────\n",
      "          │\n",
      "5: ───────#6──────────────────────────────────────────────────────\n",
      "          │\n",
      "6: ───────#7──────────────────────────────────────────────────────\n",
      "          │\n",
      "7: ───────#8──────────────────────────────────────────────────────\n",
      "**************************************************\n",
      "\n",
      "***\n",
      "Counter({'0000': 1, '1101': 1, '0111': 1})\n",
      "Matrix([[0, 0, 0, 0], [1, 1, 0, 1], [0, 1, 1, 1]])\n",
      "***\n",
      "Counter({'0000': 1, '1101': 1, '0111': 1})\n",
      "Matrix([[0, 0, 0, 0], [1, 1, 0, 1], [0, 1, 1, 1]])\n",
      "***\n",
      "Counter({'0000': 1, '1101': 1, '0111': 1})\n",
      "Matrix([[0, 0, 0, 0], [1, 1, 0, 1], [0, 1, 1, 1]])\n",
      "***\n",
      "Counter({'0000': 1, '1101': 1, '0111': 1})\n",
      "Matrix([[0, 0, 0, 0], [1, 1, 0, 1], [0, 1, 1, 1]])\n",
      "***\n",
      "Counter({'0000': 1, '1101': 1, '0111': 1})\n",
      "Matrix([[0, 0, 0, 0], [1, 1, 0, 1], [0, 1, 1, 1]])\n",
      "***\n",
      "Counter({'0000': 1, '1101': 1, '0111': 1})\n",
      "Matrix([[0, 0, 0, 0], [1, 1, 0, 1], [0, 1, 1, 1]])\n",
      "***\n",
      "Counter({'0000': 1, '1101': 1, '0111': 1})\n",
      "Matrix([[0, 0, 0, 0], [1, 1, 0, 1], [0, 1, 1, 1]])\n",
      "***\n",
      "Counter({'0000': 1, '1101': 1, '0111': 1})\n",
      "Matrix([[0, 0, 0, 0], [1, 1, 0, 1], [0, 1, 1, 1]])\n",
      "***\n",
      "Counter({'0000': 1, '1101': 1, '0111': 1})\n",
      "Matrix([[0, 0, 0, 0], [1, 1, 0, 1], [0, 1, 1, 1]])\n",
      "***\n",
      "Counter({'0000': 1, '1101': 1, '0111': 1})\n",
      "Matrix([[0, 0, 0, 0], [1, 1, 0, 1], [0, 1, 1, 1]])\n",
      "***\n",
      "Counter({'0000': 1, '1101': 1, '0111': 1})\n",
      "Matrix([[0, 0, 0, 0], [1, 1, 0, 1], [0, 1, 1, 1]])\n",
      "***\n",
      "Counter({'0000': 1, '1101': 1, '0111': 1})\n",
      "Matrix([[0, 0, 0, 0], [1, 1, 0, 1], [0, 1, 1, 1]])\n",
      "***\n",
      "Counter({'0000': 1, '1101': 1, '0111': 1})\n",
      "Matrix([[0, 0, 0, 0], [1, 1, 0, 1], [0, 1, 1, 1]])\n",
      "***\n",
      "Counter({'0000': 1, '1101': 1, '0111': 1})\n",
      "Matrix([[0, 0, 0, 0], [1, 1, 0, 1], [0, 1, 1, 1]])\n",
      "***\n",
      "Counter({'0000': 1, '1101': 1, '0111': 1})\n",
      "Matrix([[0, 0, 0, 0], [1, 1, 0, 1], [0, 1, 1, 1]])\n",
      "***\n",
      "Counter({'0000': 1, '1101': 1, '0111': 1})\n",
      "Matrix([[0, 0, 0, 0], [1, 1, 0, 1], [0, 1, 1, 1]])\n",
      "***\n",
      "Counter({'0000': 1, '1101': 1, '0111': 1})\n",
      "Matrix([[0, 0, 0, 0], [1, 1, 0, 1], [0, 1, 1, 1]])\n",
      "***\n",
      "Counter({'0000': 1, '1101': 1, '0111': 1})\n",
      "Matrix([[0, 0, 0, 0], [1, 1, 0, 1], [0, 1, 1, 1]])\n",
      "***\n",
      "Counter({'0000': 1, '1101': 1, '0111': 1})\n",
      "Matrix([[0, 0, 0, 0], [1, 1, 0, 1], [0, 1, 1, 1]])\n",
      "***\n",
      "Counter({'0000': 1, '1101': 1, '0111': 1})\n",
      "Matrix([[0, 0, 0, 0], [1, 1, 0, 1], [0, 1, 1, 1]])\n",
      "***\n",
      "Counter({'0000': 1, '1101': 1, '0111': 1})\n",
      "Matrix([[0, 0, 0, 0], [1, 1, 0, 1], [0, 1, 1, 1]])\n",
      "***\n",
      "Counter({'0000': 1, '1101': 1, '0111': 1})\n",
      "Matrix([[0, 0, 0, 0], [1, 1, 0, 1], [0, 1, 1, 1]])\n",
      "***\n",
      "Counter({'0000': 1, '1101': 1, '0111': 1})\n",
      "Matrix([[0, 0, 0, 0], [1, 1, 0, 1], [0, 1, 1, 1]])\n",
      "***\n",
      "Counter({'0000': 1, '1101': 1, '0111': 1})\n",
      "Matrix([[0, 0, 0, 0], [1, 1, 0, 1], [0, 1, 1, 1]])\n",
      "***\n",
      "Counter({'0000': 1, '1101': 1, '0111': 1})\n",
      "Matrix([[0, 0, 0, 0], [1, 1, 0, 1], [0, 1, 1, 1]])\n",
      "***\n",
      "Counter({'0000': 1, '1101': 1, '0111': 1})\n",
      "Matrix([[0, 0, 0, 0], [1, 1, 0, 1], [0, 1, 1, 1]])\n",
      "***\n",
      "Counter({'0000': 1, '1101': 1, '0111': 1})\n",
      "Matrix([[0, 0, 0, 0], [1, 1, 0, 1], [0, 1, 1, 1]])\n",
      "***\n",
      "Counter({'0000': 1, '1101': 1, '0111': 1})\n",
      "Matrix([[0, 0, 0, 0], [1, 1, 0, 1], [0, 1, 1, 1]])\n",
      "***\n",
      "Counter({'0000': 1, '1101': 1, '0111': 1})\n",
      "Matrix([[0, 0, 0, 0], [1, 1, 0, 1], [0, 1, 1, 1]])\n",
      "***\n",
      "Counter({'0000': 1, '1101': 1, '0111': 1})\n",
      "Matrix([[0, 0, 0, 0], [1, 1, 0, 1], [0, 1, 1, 1]])\n",
      "***\n",
      "Counter({'0000': 1, '1101': 1, '0111': 1})\n",
      "Matrix([[0, 0, 0, 0], [1, 1, 0, 1], [0, 1, 1, 1]])\n",
      "***\n",
      "Counter({'0000': 1, '1101': 1, '0111': 1})\n",
      "Matrix([[0, 0, 0, 0], [1, 1, 0, 1], [0, 1, 1, 1]])\n",
      "***\n",
      "Counter({'0000': 1, '1101': 1, '0111': 1})\n",
      "Matrix([[0, 0, 0, 0], [1, 1, 0, 1], [0, 1, 1, 1]])\n",
      "***\n",
      "Counter({'0000': 1, '1101': 1, '0111': 1})\n",
      "Matrix([[0, 0, 0, 0], [1, 1, 0, 1], [0, 1, 1, 1]])\n",
      "***\n",
      "Counter({'0000': 1, '1101': 1, '0111': 1})\n",
      "Matrix([[0, 0, 0, 0], [1, 1, 0, 1], [0, 1, 1, 1]])\n",
      "***\n",
      "Counter({'0000': 1, '1101': 1, '0111': 1})\n",
      "Matrix([[0, 0, 0, 0], [1, 1, 0, 1], [0, 1, 1, 1]])\n",
      "***\n",
      "Counter({'0000': 1, '1101': 1, '0111': 1})\n",
      "Matrix([[0, 0, 0, 0], [1, 1, 0, 1], [0, 1, 1, 1]])\n",
      "***\n",
      "Counter({'0000': 1, '1101': 1, '0111': 1})\n",
      "Matrix([[0, 0, 0, 0], [1, 1, 0, 1], [0, 1, 1, 1]])\n",
      "***\n",
      "Counter({'0000': 1, '1101': 1, '0111': 1})\n",
      "Matrix([[0, 0, 0, 0], [1, 1, 0, 1], [0, 1, 1, 1]])\n",
      "***\n",
      "Counter({'0000': 1, '1101': 1, '0111': 1})\n",
      "Matrix([[0, 0, 0, 0], [1, 1, 0, 1], [0, 1, 1, 1]])\n",
      "After running n-1 trials 4*m times with m=10 we have           not found a set of linearly independent equations\n"
     ]
    }
   ],
   "source": [
    "run_circuit(get_func_2to1('1011'), 4,10, print_circuit=True)"
   ]
  },
  {
   "cell_type": "markdown",
   "metadata": {},
   "source": [
    "# Verify correctness for 2to1 and check if we see different functions give different execution times?"
   ]
  },
  {
   "cell_type": "markdown",
   "metadata": {},
   "source": [
    "We think it doesn't make sense for testing how long it takes for simons problem as getting n-1 linearly independent solutions is completely based on chance. Anyways below we have the graph for comparing the 4 cases when n=4. (Only looking at 2to1 mapping functions)"
   ]
  },
  {
   "cell_type": "code",
   "execution_count": 99,
   "metadata": {
    "scrolled": true
   },
   "outputs": [
    {
     "name": "stdout",
     "output_type": "stream",
     "text": [
      "After running n-1 trials 4*m times with m=10 we have           not found a set of linearly independent equations\n",
      "After running n-1 trials 4*m times with m=10 we have           not found a set of linearly independent equations\n",
      "After running n-1 trials 4*m times with m=10 we have           not found a set of linearly independent equations\n",
      "After running n-1 trials 4*m times with m=10 we have           not found a set of linearly independent equations\n"
     ]
    }
   ],
   "source": [
    "time_it_took = []\n",
    "lst_bitseq = ['100','101','110','111']\n",
    "\n",
    "for i in range(len(lst_bitseq)):\n",
    "    start = time.time()\n",
    "    run_circuit(get_func_2to1(lst_bitseq[i]), 3,10)\n",
    "    end = time.time()\n",
    "    time_it_took.append(end-start)"
   ]
  },
  {
   "cell_type": "code",
   "execution_count": 11,
   "metadata": {},
   "outputs": [
    {
     "data": {
      "image/png": "[encoded data removed]",
      "text/plain": [
       "<Figure size 432x288 with 1 Axes>"
      ]
     },
     "metadata": {
      "needs_background": "light"
     },
     "output_type": "display_data"
    }
   ],
   "source": [
    "%matplotlib inline\n",
    "plt.bar(np.arange(4), time_it_took)\n",
    "plt.show()"
   ]
  },
  {
   "cell_type": "markdown",
   "metadata": {},
   "source": [
    "# Here we plot the runtime as n increases\n",
    "\n",
    "We were not able to run simons algorithm for n=4 in a realistic amount of time and it doens't make sense to run with n=1. So only plotting the result for n=2 and n=3. Anyways this will also face the same issue of taking variable amount of time because it is non-deterministic"
   ]
  },
  {
   "cell_type": "code",
   "execution_count": 12,
   "metadata": {},
   "outputs": [
    {
     "name": "stdout",
     "output_type": "stream",
     "text": [
      "We have found s=11 on iteration number 1\n",
      "We have found s=111 on iteration number 4\n"
     ]
    }
   ],
   "source": [
    "time_it_took = []\n",
    "lst_bitseq = ['11','111']\n",
    "\n",
    "for i in range(2):\n",
    "    start = time.time()\n",
    "    run_circuit(get_func_2to1(lst_bitseq[i]), i+2,10)\n",
    "    end = time.time()\n",
    "    time_it_took.append(end-start)"
   ]
  },
  {
   "cell_type": "code",
   "execution_count": 13,
   "metadata": {},
   "outputs": [
    {
     "data": {
      "image/png": "[encoded data removed]",
      "text/plain": [
       "<Figure size 432x288 with 1 Axes>"
      ]
     },
     "metadata": {
      "needs_background": "light"
     },
     "output_type": "display_data"
    }
   ],
   "source": [
    "%matplotlib inline\n",
    "plt.plot([2,3], time_it_took)\n",
    "plt.show()"
   ]
  },
  {
   "cell_type": "markdown",
   "metadata": {},
   "source": [
    "# How to use our code?\n",
    "\n",
    "Running this is straightforward. We have a function called run_circuit which takes 3 arguments. The first argument is the function that we are using. This function can be easily built using get_func_2to1 or get_func_1to1 by passing an s value. 2nd argument is length of the input to this function. 3rd argument is m which controlls the number of trials. Higher value of m implies higher chance of finding s. For given m we can say that the probablity of not finding s is lower than e^-m. This is why in our experiments we have used m=10"
   ]
  }
 ],
 "metadata": {
  "kernelspec": {
   "display_name": "Python 3",
   "language": "python",
   "name": "python3"
  },
  "language_info": {
   "codemirror_mode": {
    "name": "ipython",
    "version": 3
   },
   "file_extension": ".py",
   "mimetype": "text/x-python",
   "name": "python",
   "nbconvert_exporter": "python",
   "pygments_lexer": "ipython3",
   "version": "3.7.0"
  }
 },
 "nbformat": 4,
 "nbformat_minor": 2
}
