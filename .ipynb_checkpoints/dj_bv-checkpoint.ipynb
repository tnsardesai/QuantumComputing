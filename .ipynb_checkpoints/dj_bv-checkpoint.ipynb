{
 "cells": [
  {
   "cell_type": "markdown",
   "metadata": {},
   "source": [
    "# First quantum program"
   ]
  },
  {
   "cell_type": "code",
   "execution_count": 1,
   "metadata": {},
   "outputs": [],
   "source": [
    "import numpy as np\n",
    "import itertools\n",
    "\n",
    "from pyquil import Program, get_qc\n",
    "from pyquil.gates import *\n",
    "from pyquil.quil import DefGate"
   ]
  },
  {
   "cell_type": "code",
   "execution_count": 2,
   "metadata": {},
   "outputs": [],
   "source": [
    "def f_constant1(bitseq):\n",
    "    return 0\n",
    "\n",
    "def f_constant2(bitseq):\n",
    "    return 1\n",
    "\n",
    "def f_balanced1(bitseq):\n",
    "    return sum(bitseq)%2\n",
    "\n",
    "def f_balanced2(bitseq):\n",
    "    return sum(bitseq)%2 ^ 1\n",
    "\n",
    "def f_test(bitseq):\n",
    "    return 1-bitseq[1]\n",
    "\n",
    "def f_test_bv(bitseq):\n",
    "    return (np.dot([1, 0], bitseq)%2) ^ 1\n",
    "\n",
    "def create_Uf(f, n):\n",
    "    dim = 2**n\n",
    "    Uf = np.zeros((dim, dim), dtype=int)\n",
    "    lst_bitseq = list(map(list, itertools.product([0, 1], repeat=n)))\n",
    "    for col, bitseq in enumerate(lst_bitseq):\n",
    "        last_bit = bitseq[-1] ^ f(bitseq[:-1])\n",
    "        final_bitseq = [bit for bit in bitseq]\n",
    "        final_bitseq[-1] = last_bit\n",
    "        Uf[lst_bitseq.index(final_bitseq), col] = 1\n",
    "    return Uf"
   ]
  },
  {
   "cell_type": "code",
   "execution_count": 9,
   "metadata": {},
   "outputs": [],
   "source": [
    "def create_dj_circuit(f, n):\n",
    "    \n",
    "    \n",
    "    uf = create_Uf(f, n)\n",
    "    # Get the Quil definition for the new gate\n",
    "    uf_definition = DefGate(\"UF\", uf)\n",
    "    # Get the gate constructor\n",
    "    UF = uf_definition.get_constructor()\n",
    "    \n",
    "    p = Program()\n",
    "    p += uf_definition\n",
    "    p += X(n-1)\n",
    "    for i in range(0, n):\n",
    "        p += H(i)\n",
    "    p += Program(\"UF {}\".format(' '.join(str(x) for x in list(range(0, n)))))\n",
    "    for i in range(0, n-1):\n",
    "        p += H(i)\n",
    "    return p"
   ]
  },
  {
   "cell_type": "code",
   "execution_count": 10,
   "metadata": {},
   "outputs": [],
   "source": [
    "def run_circuit(f, n):\n",
    "    p = create_dj_circuit(f, n)\n",
    "    \n",
    "    qc = get_qc('{}q-qvm'.format(n))\n",
    "    result = qc.run_and_measure(p, trials=1)\n",
    "    return result"
   ]
  },
  {
   "cell_type": "code",
   "execution_count": 29,
   "metadata": {},
   "outputs": [],
   "source": [
    "def run_dj(f, n):\n",
    "    res = run_circuit(f, n)\n",
    "    sum = 0\n",
    "    for i in range(0, n-1):\n",
    "        sum += res[i][0]\n",
    "    if sum == 0:\n",
    "        print(\"Function is constant\")\n",
    "    else:\n",
    "        print(\"Function is balanced\")"
   ]
  },
  {
   "cell_type": "code",
   "execution_count": 27,
   "metadata": {},
   "outputs": [],
   "source": [
    "def run_bv(f, n):\n",
    "    res = run_circuit(f, n)\n",
    "    b = f([0]*(n-1))\n",
    "    a = ''\n",
    "    for i in range(0, n-1):\n",
    "        a += str(res[i][0])\n",
    "    print(\"Function is defined with a={0}, b={1}\".format(a, b))"
   ]
  },
  {
   "cell_type": "code",
   "execution_count": 30,
   "metadata": {},
   "outputs": [
    {
     "name": "stdout",
     "output_type": "stream",
     "text": [
      "Function is balanced\n"
     ]
    }
   ],
   "source": [
    "run_dj(f_balanced1,3)"
   ]
  },
  {
   "cell_type": "code",
   "execution_count": 33,
   "metadata": {},
   "outputs": [
    {
     "name": "stdout",
     "output_type": "stream",
     "text": [
      "Function is defined with a=11, b=0\n"
     ]
    }
   ],
   "source": [
    "run_bv(f_balanced1,3)"
   ]
  },
  {
   "cell_type": "code",
   "execution_count": null,
   "metadata": {},
   "outputs": [],
   "source": []
  }
 ],
 "metadata": {
  "kernelspec": {
   "display_name": "Python 3",
   "language": "python",
   "name": "python3"
  },
  "language_info": {
   "codemirror_mode": {
    "name": "ipython",
    "version": 3
   },
   "file_extension": ".py",
   "mimetype": "text/x-python",
   "name": "python",
   "nbconvert_exporter": "python",
   "pygments_lexer": "ipython3",
   "version": "3.7.0"
  }
 },
 "nbformat": 4,
 "nbformat_minor": 2
}
