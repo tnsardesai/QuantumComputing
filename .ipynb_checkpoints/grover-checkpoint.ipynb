{
 "cells": [
  {
   "cell_type": "markdown",
   "metadata": {},
   "source": [
    "# Grover's algorithm in pyQuil"
   ]
  },
  {
   "cell_type": "markdown",
   "metadata": {},
   "source": [
    "![TeamName](https://media.giphy.com/media/3og0ITQOC5wlyk8ffy/giphy.gif \"pied pipper\")"
   ]
  },
  {
   "cell_type": "code",
   "execution_count": 1,
   "metadata": {},
   "outputs": [],
   "source": [
    "import numpy as np\n",
    "import itertools\n",
    "import time\n",
    "import matplotlib.pyplot as plt\n",
    "\n",
    "from pyquil import Program, get_qc\n",
    "from pyquil.gates import *\n",
    "from pyquil.quil import DefGate"
   ]
  },
  {
   "cell_type": "code",
   "execution_count": 2,
   "metadata": {},
   "outputs": [],
   "source": [
    "def create_Zf(f, n):\n",
    "    \"\"\"\n",
    "    Function to create Zf matrix\n",
    "    \n",
    "    @param f: Input function that we want to encode\n",
    "    @param n: Number of qubits. This should be (len(input to f))\n",
    "    \n",
    "    @return: Numpy matrix Zf\n",
    "    \"\"\"\n",
    "    dim = 2**n\n",
    "    # creating a 2^n x 2^n zeros matrix.\n",
    "    Zf = np.eye(dim, dtype=int)\n",
    "    # This creates a list of the different permutations of n bits.\n",
    "    lst_bitseq = list(map(list, itertools.product([0, 1], repeat=n)))\n",
    "    for col, bitseq in enumerate(lst_bitseq):\n",
    "        if f(bitseq) == 1:\n",
    "            Zf[col, col] = -1\n",
    "            break\n",
    "    return Zf"
   ]
  },
  {
   "cell_type": "code",
   "execution_count": 3,
   "metadata": {},
   "outputs": [],
   "source": [
    "def create_Z0(n):\n",
    "    \"\"\"\n",
    "    Function to create Z0 matrix\n",
    "    \n",
    "    @param n: Number of qubits. This should be (len(input to f))\n",
    "    \n",
    "    @return: Numpy matrix Z0. We are actually returning -Z0 here.\n",
    "    \"\"\"\n",
    "    dim = 2**n\n",
    "    Z0 = -np.eye(dim, dtype=int)\n",
    "    Z0[0,0] = 1\n",
    "    return Z0"
   ]
  },
  {
   "cell_type": "code",
   "execution_count": 4,
   "metadata": {},
   "outputs": [],
   "source": [
    "def num_iters(n):\n",
    "    \"\"\"\n",
    "    This function calculates the number of iterations required for function with input size n\n",
    "    \n",
    "    @param n: Number of qubits. This should be len(input to f)\n",
    "    \n",
    "    @return: Number of executions of G matrix\n",
    "    \"\"\"\n",
    "    return int(np.floor((np.pi/4)*np.sqrt(2**n)))"
   ]
  },
  {
   "cell_type": "code",
   "execution_count": 5,
   "metadata": {},
   "outputs": [],
   "source": [
    "def create_grover_circuit(f, n):\n",
    "    \"\"\"\n",
    "    This function will create the program.\n",
    "    \n",
    "    @param f: Input function that we want to encode\n",
    "    @param n: Number of qubits. This should be len(input to f)\n",
    "    \n",
    "    @return: Pyquil Program\n",
    "    \"\"\"\n",
    "    zf = create_Zf(f, n)\n",
    "    z0 = create_Z0(n)\n",
    "    # Get the Quil definition for the new gate\n",
    "    zf_definition = DefGate(\"ZF\", zf)\n",
    "    z0_definition = DefGate(\"Z0\",z0)\n",
    "    # Get the gate constructor\n",
    "    ZF = zf_definition.get_constructor()\n",
    "    Z0 = z0_definition.get_constructor()\n",
    "    \n",
    "    p = Program()\n",
    "    p += zf_definition\n",
    "    p += z0_definition\n",
    "    #p += X(n-1) # Make the last\n",
    "    for i in range(n):\n",
    "        p += H(i)\n",
    "    \n",
    "    k = num_iters(n)\n",
    "    for i in range(k):\n",
    "        p += Program(\"ZF {}\".format(' '.join(str(x) for x in list(range(0, n)))))\n",
    "        for i in range(n):\n",
    "            p += H(i)\n",
    "        p += Program(\"Z0 {}\".format(' '.join(str(x) for x in list(range(0, n)))))\n",
    "        for i in range(n):\n",
    "            p += H(i)\n",
    "    #print(p)\n",
    "    return p"
   ]
  },
  {
   "cell_type": "code",
   "execution_count": 6,
   "metadata": {},
   "outputs": [],
   "source": [
    "def run_circuit(f, n, n_trials):\n",
    "    \"\"\"\n",
    "    creates and runs a circuit\n",
    "    \n",
    "    @param f: Input function that we want to encode\n",
    "    @param n: Number of qubits. This should be 1+(len(input to f))\n",
    "    \n",
    "    @return: result\n",
    "    \"\"\"\n",
    "    print(\"*\"*50)\n",
    "    p = create_grover_circuit(f, n)\n",
    "    qc = get_qc('{}q-qvm'.format(n))\n",
    "    qc.compiler.client.timeout = 600\n",
    "    result = qc.run_and_measure(p, trials=n_trials)  # We only run 1 trial here because it is deterministic with no noise\n",
    "    \n",
    "    result_str = ''\n",
    "    prob = 1\n",
    "    for i in range(n):\n",
    "        out = np.array(np.unique(result[i], return_counts=True)).T\n",
    "        if len(out) == 1:\n",
    "            print(\"qubit {} is {} with probability 100%\".format(i, out[0][0]))\n",
    "            x = out[0][0]\n",
    "        else:\n",
    "            if out[0][1] > out[1][1]:\n",
    "                print(\"qubit {} is {} with probability {}%\".format(i, out[0][0], out[0][1]*100/n_trials))\n",
    "                x = out[0][0]\n",
    "                prob *= (out[0][1]/n_trials)\n",
    "            else:\n",
    "                print(\"qubit {} is {} with probability {}%\".format(i, out[1][0], out[1][1]*100/n_trials))\n",
    "                x = out[1][0]\n",
    "                prob *= (out[1][1]/n_trials)\n",
    "        result_str += str(x)\n",
    "    print(\"f(x) = 1 for input x={} with probability {:.3f}%\".format(result_str,prob*100))\n",
    "    print(\"*\"*50)"
   ]
  },
  {
   "cell_type": "markdown",
   "metadata": {},
   "source": [
    "# Do we see if different functions give different execution times?"
   ]
  },
  {
   "cell_type": "markdown",
   "metadata": {},
   "source": [
    "Running our circuit for all 16 possible functions for n=4"
   ]
  },
  {
   "cell_type": "code",
   "execution_count": 7,
   "metadata": {
    "scrolled": true
   },
   "outputs": [
    {
     "name": "stdout",
     "output_type": "stream",
     "text": [
      "**************************************************\n",
      "qubit 0 is 0 with probability 97.8%\n",
      "qubit 1 is 0 with probability 98.0%\n",
      "qubit 2 is 0 with probability 97.5%\n",
      "qubit 3 is 0 with probability 98.1%\n",
      "f(x) = 1 for input x=0000 with probability 91.672%\n",
      "**************************************************\n",
      "**************************************************\n",
      "qubit 0 is 0 with probability 97.7%\n",
      "qubit 1 is 0 with probability 97.6%\n",
      "qubit 2 is 0 with probability 97.3%\n",
      "qubit 3 is 1 with probability 97.5%\n",
      "f(x) = 1 for input x=0001 with probability 90.461%\n",
      "**************************************************\n",
      "**************************************************\n",
      "qubit 0 is 0 with probability 97.6%\n",
      "qubit 1 is 0 with probability 97.8%\n",
      "qubit 2 is 1 with probability 98.1%\n",
      "qubit 3 is 0 with probability 97.8%\n",
      "f(x) = 1 for input x=0010 with probability 91.579%\n",
      "**************************************************\n",
      "**************************************************\n",
      "qubit 0 is 0 with probability 97.1%\n",
      "qubit 1 is 0 with probability 97.9%\n",
      "qubit 2 is 1 with probability 97.9%\n",
      "qubit 3 is 1 with probability 97.7%\n",
      "f(x) = 1 for input x=0011 with probability 90.924%\n",
      "**************************************************\n",
      "**************************************************\n",
      "qubit 0 is 0 with probability 98.8%\n",
      "qubit 1 is 1 with probability 98.7%\n",
      "qubit 2 is 0 with probability 98.5%\n",
      "qubit 3 is 0 with probability 99.1%\n",
      "f(x) = 1 for input x=0100 with probability 95.188%\n",
      "**************************************************\n",
      "**************************************************\n",
      "qubit 0 is 0 with probability 97.5%\n",
      "qubit 1 is 1 with probability 98.2%\n",
      "qubit 2 is 0 with probability 98.1%\n",
      "qubit 3 is 1 with probability 97.7%\n",
      "f(x) = 1 for input x=0101 with probability 91.766%\n",
      "**************************************************\n",
      "**************************************************\n",
      "qubit 0 is 0 with probability 98.4%\n",
      "qubit 1 is 1 with probability 98.1%\n",
      "qubit 2 is 1 with probability 98.6%\n",
      "qubit 3 is 0 with probability 98.5%\n",
      "f(x) = 1 for input x=0110 with probability 93.751%\n",
      "**************************************************\n",
      "**************************************************\n",
      "qubit 0 is 0 with probability 98.1%\n",
      "qubit 1 is 1 with probability 98.4%\n",
      "qubit 2 is 1 with probability 98.5%\n",
      "qubit 3 is 1 with probability 98.1%\n",
      "f(x) = 1 for input x=0111 with probability 93.276%\n",
      "**************************************************\n",
      "**************************************************\n",
      "qubit 0 is 1 with probability 98.4%\n",
      "qubit 1 is 0 with probability 98.2%\n",
      "qubit 2 is 0 with probability 98.2%\n",
      "qubit 3 is 0 with probability 98.2%\n",
      "f(x) = 1 for input x=1000 with probability 93.181%\n",
      "**************************************************\n",
      "**************************************************\n",
      "qubit 0 is 1 with probability 97.7%\n",
      "qubit 1 is 0 with probability 97.8%\n",
      "qubit 2 is 0 with probability 98.1%\n",
      "qubit 3 is 1 with probability 98.0%\n",
      "f(x) = 1 for input x=1001 with probability 91.860%\n",
      "**************************************************\n",
      "**************************************************\n",
      "qubit 0 is 1 with probability 98.2%\n",
      "qubit 1 is 0 with probability 98.4%\n",
      "qubit 2 is 1 with probability 98.0%\n",
      "qubit 3 is 0 with probability 98.3%\n",
      "f(x) = 1 for input x=1010 with probability 93.086%\n",
      "**************************************************\n",
      "**************************************************\n",
      "qubit 0 is 1 with probability 98.3%\n",
      "qubit 1 is 0 with probability 98.2%\n",
      "qubit 2 is 1 with probability 98.0%\n",
      "qubit 3 is 1 with probability 98.0%\n",
      "f(x) = 1 for input x=1011 with probability 92.708%\n",
      "**************************************************\n",
      "**************************************************\n",
      "qubit 0 is 1 with probability 97.9%\n",
      "qubit 1 is 1 with probability 97.0%\n",
      "qubit 2 is 0 with probability 98.1%\n",
      "qubit 3 is 0 with probability 97.9%\n",
      "f(x) = 1 for input x=1100 with probability 91.202%\n",
      "**************************************************\n",
      "**************************************************\n",
      "qubit 0 is 1 with probability 97.8%\n",
      "qubit 1 is 1 with probability 97.6%\n",
      "qubit 2 is 0 with probability 97.6%\n",
      "qubit 3 is 1 with probability 98.1%\n",
      "f(x) = 1 for input x=1101 with probability 91.392%\n",
      "**************************************************\n",
      "**************************************************\n",
      "qubit 0 is 1 with probability 97.5%\n",
      "qubit 1 is 1 with probability 98.1%\n",
      "qubit 2 is 1 with probability 98.1%\n",
      "qubit 3 is 0 with probability 97.9%\n",
      "f(x) = 1 for input x=1110 with probability 91.860%\n",
      "**************************************************\n",
      "**************************************************\n",
      "qubit 0 is 1 with probability 97.5%\n",
      "qubit 1 is 1 with probability 97.8%\n",
      "qubit 2 is 1 with probability 96.0%\n",
      "qubit 3 is 1 with probability 96.7%\n",
      "f(x) = 1 for input x=1111 with probability 88.520%\n",
      "**************************************************\n"
     ]
    }
   ],
   "source": [
    "time_it_took = []\n",
    "lst_bitseq = list(map(list, itertools.product([0, 1], repeat=4)))\n",
    "\n",
    "for i in range(len(lst_bitseq)):\n",
    "    start = time.time()\n",
    "    run_circuit(lambda x: 1 if x == lst_bitseq[i] else 0, 4,1000)\n",
    "    end = time.time()\n",
    "    time_it_took.append(end-start)"
   ]
  },
  {
   "cell_type": "markdown",
   "metadata": {},
   "source": [
    "### Note that for all the 16 cases for n=4 we have almost same runtime"
   ]
  },
  {
   "cell_type": "code",
   "execution_count": 8,
   "metadata": {},
   "outputs": [
    {
     "data": {
      "image/png": "[encoded data removed]",
      "text/plain": [
       "<Figure size 432x288 with 1 Axes>"
      ]
     },
     "metadata": {
      "needs_background": "light"
     },
     "output_type": "display_data"
    }
   ],
   "source": [
    "%matplotlib inline\n",
    "plt.bar(np.arange(16), time_it_took)\n",
    "plt.show()"
   ]
  },
  {
   "cell_type": "markdown",
   "metadata": {},
   "source": [
    "# Here we plot the runtime as n increases\n",
    "\n",
    "Only plotting as n goes from 1 to 5 as we get timeout error after that and only plotting for function which returns 1 for all 0 input. We are also conducting 10000 trials (more than previous as we only have 5 functions instead of 16.\n",
    "\n",
    "Note that answer when n=1 is incorrect half the time because grovers algorithm is stuck in bell states for that case and we get 0 or 1 with equal probablity"
   ]
  },
  {
   "cell_type": "code",
   "execution_count": 9,
   "metadata": {},
   "outputs": [
    {
     "name": "stdout",
     "output_type": "stream",
     "text": [
      "**************************************************\n",
      "qubit 0 is 0 with probability 50.73%\n",
      "f(x) = 1 for input x=0 with probability 50.730%\n",
      "**************************************************\n",
      "**************************************************\n",
      "qubit 0 is 0 with probability 100%\n",
      "qubit 1 is 0 with probability 100%\n",
      "f(x) = 1 for input x=00 with probability 100.000%\n",
      "**************************************************\n",
      "**************************************************\n",
      "qubit 0 is 0 with probability 96.67%\n",
      "qubit 1 is 0 with probability 96.83%\n",
      "qubit 2 is 0 with probability 97.04%\n",
      "f(x) = 1 for input x=000 with probability 90.835%\n",
      "**************************************************\n",
      "**************************************************\n",
      "qubit 0 is 0 with probability 97.98%\n",
      "qubit 1 is 0 with probability 97.9%\n",
      "qubit 2 is 0 with probability 97.88%\n",
      "qubit 3 is 0 with probability 97.86%\n",
      "f(x) = 1 for input x=0000 with probability 91.880%\n",
      "**************************************************\n",
      "**************************************************\n",
      "qubit 0 is 0 with probability 99.96%\n",
      "qubit 1 is 0 with probability 99.98%\n",
      "qubit 2 is 0 with probability 99.98%\n",
      "qubit 3 is 0 with probability 99.95%\n",
      "qubit 4 is 0 with probability 99.98%\n",
      "f(x) = 1 for input x=00000 with probability 99.850%\n",
      "**************************************************\n"
     ]
    }
   ],
   "source": [
    "time_it_took = []\n",
    "lst_bitseq = [[0],[0,0],[0,0,0],[0,0,0,0],[0,0,0,0,0],[0,0,0,0,0,0]]\n",
    "\n",
    "for i in range(len(lst_bitseq)):\n",
    "    start = time.time()\n",
    "    run_circuit(lambda x: 1 if x == lst_bitseq[i] else 0, i+1,10000)\n",
    "    end = time.time()\n",
    "    time_it_took.append(end-start)"
   ]
  },
  {
   "cell_type": "code",
   "execution_count": 10,
   "metadata": {},
   "outputs": [
    {
     "data": {
      "image/png": "[encoded data removed]",
      "text/plain": [
       "<Figure size 432x288 with 1 Axes>"
      ]
     },
     "metadata": {
      "needs_background": "light"
     },
     "output_type": "display_data"
    }
   ],
   "source": [
    "%matplotlib inline\n",
    "plt.plot(list(range(1,7)), time_it_took)\n",
    "plt.show()"
   ]
  },
  {
   "cell_type": "markdown",
   "metadata": {},
   "source": [
    "# How to use our code?\n",
    "\n",
    "Running this is straightforward. We have a function called run_circuit which takes 3 arguments. The first argument is the name of the function that we are using. 2nd argument is length of the input to this function. 3rd argument is number of trials we want to run this circuit"
   ]
  }
 ],
 "metadata": {
  "kernelspec": {
   "display_name": "Python 3",
   "language": "python",
   "name": "python3"
  },
  "language_info": {
   "codemirror_mode": {
    "name": "ipython",
    "version": 3
   },
   "file_extension": ".py",
   "mimetype": "text/x-python",
   "name": "python",
   "nbconvert_exporter": "python",
   "pygments_lexer": "ipython3",
   "version": "3.7.2"
  }
 },
 "nbformat": 4,
 "nbformat_minor": 2
}
