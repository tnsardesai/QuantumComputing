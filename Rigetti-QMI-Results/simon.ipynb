{
 "cells": [
  {
   "cell_type": "markdown",
   "metadata": {},
   "source": [
    "# Simon's algorithm in pyQuil"
   ]
  },
  {
   "cell_type": "markdown",
   "metadata": {},
   "source": [
    "![TeamName](https://media.giphy.com/media/5wFjITVDtKD0wwJe7V/source.gif \"pied pipper\")"
   ]
  },
  {
   "cell_type": "code",
   "execution_count": 134,
   "metadata": {},
   "outputs": [],
   "source": [
    "import numpy as np\n",
    "import itertools\n",
    "import time\n",
    "import matplotlib.pyplot as plt\n",
    "\n",
    "from pyquil import Program, get_qc\n",
    "from pyquil.gates import *\n",
    "from pyquil.quil import DefGate\n",
    "from grove.simon.simon import create_valid_2to1_bitmap, create_1to1_bitmap\n",
    "from sympy import *\n",
    "from collections import defaultdict, Counter"
   ]
  },
  {
   "cell_type": "code",
   "execution_count": 135,
   "metadata": {},
   "outputs": [],
   "source": [
    "def create_Uf(f, n):\n",
    "    \"\"\"\n",
    "    Creats Uf matrix needed in simons algorithm\n",
    "    \n",
    "    @param f: Input function that we want to encode\n",
    "    @param n: Number of qubits. 2*(len(input to f))\n",
    "    \n",
    "    @return: Numpy matrix Uf\n",
    "    \"\"\"\n",
    "    dim = 2**n\n",
    "    # creating a 2^n x 2^n zeros matrix. \n",
    "    Uf = np.zeros((dim, dim), dtype=int)\n",
    "    # This creates a list of the different permutations of n bits. \n",
    "    lst_bitseq = list(map(list, itertools.product([0, 1], repeat=n)))\n",
    "    for col, bitseq in enumerate(lst_bitseq):\n",
    "        # applying the operation on the last helper bit. \n",
    "        last_bits = [x^y for x,y in zip(bitseq[int(n/2):], f(bitseq[:int(n/2)]))] # b+f(x)\n",
    "        final_bitseq = [bit for bit in bitseq[:int(n/2)]] + [bit for bit in last_bits]\n",
    "        # using the To-Form method discussed in class to help create the Uf matrix. \n",
    "        Uf[lst_bitseq.index(final_bitseq), col] = 1\n",
    "    return Uf"
   ]
  },
  {
   "cell_type": "code",
   "execution_count": 136,
   "metadata": {},
   "outputs": [],
   "source": [
    "def create_simon_circuit(f, n):\n",
    "    \"\"\"\n",
    "    This function will create the program.\n",
    "    \n",
    "    @param f: Input function that we want to encode\n",
    "    @param n: Number of qubits. 2*len(input to f)\n",
    "    \n",
    "    @return: Pyquil Program\n",
    "    \"\"\"\n",
    "    uf = create_Uf(f, n)\n",
    "    uf_definition = DefGate(\"UF\", uf)\n",
    "    UF = uf_definition.get_constructor()\n",
    "    \n",
    "    p = Program()\n",
    "    p += uf_definition\n",
    "    for i in range(int(n/2)):\n",
    "        p += H(i)\n",
    "    p += Program(\"UF {}\".format(' '.join(str(x) for x in list(range(0, n)))))\n",
    "    for i in range(int(n/2)):\n",
    "        p += H(i)\n",
    "    return p"
   ]
  },
  {
   "cell_type": "code",
   "execution_count": 137,
   "metadata": {},
   "outputs": [],
   "source": [
    "def build_matrix(res,n):\n",
    "    \"\"\"\n",
    "    Given the result from circuit it build a matrix of the equations\n",
    "    \n",
    "    @param res: result received from run_and_measure\n",
    "    @param n: length of input to f\n",
    "    \n",
    "    @return: Matrix with each row as y_i\n",
    "    \"\"\"\n",
    "    A = []\n",
    "    for j in range(n-1):\n",
    "        curr = []\n",
    "        for i in range(n):\n",
    "            curr.append(res[i][j])\n",
    "        A.append(curr)\n",
    "\n",
    "    return Matrix(A)"
   ]
  },
  {
   "cell_type": "code",
   "execution_count": 138,
   "metadata": {},
   "outputs": [],
   "source": [
    "def run_circuit(f, n, m):\n",
    "    \"\"\"\n",
    "    creates and runs a circuit\n",
    "    \n",
    "    @param f: Input function that we want to encode\n",
    "    @param n: (len(input to f))\n",
    "    @param m: m decides the number of times we run the loop. Higher m means\n",
    "                higher probablity of finding s.\n",
    "    \n",
    "    @return: result\n",
    "    \"\"\"\n",
    "    p = create_simon_circuit(f, 2*n)\n",
    "    qc = get_qc('{}q-qvm'.format(2*n))\n",
    "    qc.compiler.client.timeout = 600\n",
    "    found = False\n",
    "#     prob = defaultdict(int)\n",
    "    B = []\n",
    "    for i in range(4*m):\n",
    "        result = qc.run_and_measure(p, trials=n-1)\n",
    "        A = build_matrix(result, n)\n",
    "\n",
    "        for j in range(n-1):\n",
    "            curr = []\n",
    "            for i in range(n):\n",
    "                curr.append(int(result[i][j]))\n",
    "            B.append(curr)\n",
    "\n",
    "        if A.rref()[0].row(-1) == Matrix([[0]*n]):\n",
    "            # we have linearly dependent equations\n",
    "            continue\n",
    "        else:\n",
    "            # we have found linearly independent equations so solve and end\n",
    "            out = [abs(x[0]) for x in A.nullspace()[0].tolist()]\n",
    "            if f([0]*n) == f(out):\n",
    "                print(\"We have found s={} on iteration number {}\".format(''.join([str(x) for x in out]),i+1))\n",
    "                found = True\n",
    "                break\n",
    "        \n",
    "    if not found:\n",
    "        c = Counter(B)\n",
    "        print(c)\n",
    "            \n",
    "    \n",
    "    print(\"After running n-1 trials 4*m times with m={} we have \\\n",
    "          not found a set of linearly independent equations\".format(m))\n",
    "    return"
   ]
  },
  {
   "cell_type": "code",
   "execution_count": 139,
   "metadata": {},
   "outputs": [],
   "source": [
    "def get_func_2to1(s):\n",
    "    \"\"\"\n",
    "    This function can be used to build a test case for given s\n",
    "    Note that this function doesn't do any validity checks so make sure you give correct s\n",
    "    \n",
    "    @param s: input s\n",
    "    \n",
    "    @return: 2 to 1 function that takes x and returns mapping based on s\n",
    "    \"\"\"\n",
    "    def func(x):\n",
    "        mapping = create_valid_2to1_bitmap(mask=s,random_seed=42)\n",
    "        return [int(i) for i in list(mapping[''.join(str(a) for a in x)])]\n",
    "    return func"
   ]
  },
  {
   "cell_type": "code",
   "execution_count": 140,
   "metadata": {},
   "outputs": [],
   "source": [
    "def get_func_1to1(s):\n",
    "    \"\"\"\n",
    "    This function can be used to build a test case for given s\n",
    "    Note that this function doesn't do any validity checks so make sure you give correct s\n",
    "    \n",
    "    @param s: input s\n",
    "    \n",
    "    @return: 1 to 1 function that takes x and returns mapping based on s\n",
    "    \"\"\"\n",
    "    def func(x):\n",
    "        mapping = create_1to1_bitmap(mask=s)\n",
    "        return [int(i) for i in list(mapping[''.join(str(a) for a in x)])]\n",
    "    return func"
   ]
  },
  {
   "cell_type": "markdown",
   "metadata": {},
   "source": [
    "### First show that it works for 1to1 mapping."
   ]
  },
  {
   "cell_type": "code",
   "execution_count": 141,
   "metadata": {},
   "outputs": [
    {
     "ename": "TypeError",
     "evalue": "unhashable type: 'list'",
     "output_type": "error",
     "traceback": [
      "\u001b[0;31m---------------------------------------------------------------------------\u001b[0m",
      "\u001b[0;31mTypeError\u001b[0m                                 Traceback (most recent call last)",
      "\u001b[0;32m<ipython-input-141-51b892637b86>\u001b[0m in \u001b[0;36m<module>\u001b[0;34m\u001b[0m\n\u001b[0;32m----> 1\u001b[0;31m \u001b[0mrun_circuit\u001b[0m\u001b[0;34m(\u001b[0m\u001b[0mget_func_1to1\u001b[0m\u001b[0;34m(\u001b[0m\u001b[0;34m'11'\u001b[0m\u001b[0;34m)\u001b[0m\u001b[0;34m,\u001b[0m\u001b[0;36m2\u001b[0m\u001b[0;34m,\u001b[0m\u001b[0;36m10\u001b[0m\u001b[0;34m)\u001b[0m\u001b[0;34m\u001b[0m\u001b[0;34m\u001b[0m\u001b[0m\n\u001b[0m",
      "\u001b[0;32m<ipython-input-138-e62dff315d73>\u001b[0m in \u001b[0;36mrun_circuit\u001b[0;34m(f, n, m)\u001b[0m\n\u001b[1;32m     38\u001b[0m \u001b[0;34m\u001b[0m\u001b[0m\n\u001b[1;32m     39\u001b[0m     \u001b[0;32mif\u001b[0m \u001b[0;32mnot\u001b[0m \u001b[0mfound\u001b[0m\u001b[0;34m:\u001b[0m\u001b[0;34m\u001b[0m\u001b[0;34m\u001b[0m\u001b[0m\n\u001b[0;32m---> 40\u001b[0;31m         \u001b[0mc\u001b[0m \u001b[0;34m=\u001b[0m \u001b[0mCounter\u001b[0m\u001b[0;34m(\u001b[0m\u001b[0mB\u001b[0m\u001b[0;34m)\u001b[0m\u001b[0;34m\u001b[0m\u001b[0;34m\u001b[0m\u001b[0m\n\u001b[0m\u001b[1;32m     41\u001b[0m         \u001b[0mprint\u001b[0m\u001b[0;34m(\u001b[0m\u001b[0mc\u001b[0m\u001b[0;34m)\u001b[0m\u001b[0;34m\u001b[0m\u001b[0;34m\u001b[0m\u001b[0m\n\u001b[1;32m     42\u001b[0m \u001b[0;34m\u001b[0m\u001b[0m\n",
      "\u001b[0;32m~/.virtualenvs/venv/lib64/python3.6/collections/__init__.py\u001b[0m in \u001b[0;36m__init__\u001b[0;34m(*args, **kwds)\u001b[0m\n\u001b[1;32m    533\u001b[0m             \u001b[0;32mraise\u001b[0m \u001b[0mTypeError\u001b[0m\u001b[0;34m(\u001b[0m\u001b[0;34m'expected at most 1 arguments, got %d'\u001b[0m \u001b[0;34m%\u001b[0m \u001b[0mlen\u001b[0m\u001b[0;34m(\u001b[0m\u001b[0margs\u001b[0m\u001b[0;34m)\u001b[0m\u001b[0;34m)\u001b[0m\u001b[0;34m\u001b[0m\u001b[0;34m\u001b[0m\u001b[0m\n\u001b[1;32m    534\u001b[0m         \u001b[0msuper\u001b[0m\u001b[0;34m(\u001b[0m\u001b[0mCounter\u001b[0m\u001b[0;34m,\u001b[0m \u001b[0mself\u001b[0m\u001b[0;34m)\u001b[0m\u001b[0;34m.\u001b[0m\u001b[0m__init__\u001b[0m\u001b[0;34m(\u001b[0m\u001b[0;34m)\u001b[0m\u001b[0;34m\u001b[0m\u001b[0;34m\u001b[0m\u001b[0m\n\u001b[0;32m--> 535\u001b[0;31m         \u001b[0mself\u001b[0m\u001b[0;34m.\u001b[0m\u001b[0mupdate\u001b[0m\u001b[0;34m(\u001b[0m\u001b[0;34m*\u001b[0m\u001b[0margs\u001b[0m\u001b[0;34m,\u001b[0m \u001b[0;34m**\u001b[0m\u001b[0mkwds\u001b[0m\u001b[0;34m)\u001b[0m\u001b[0;34m\u001b[0m\u001b[0;34m\u001b[0m\u001b[0m\n\u001b[0m\u001b[1;32m    536\u001b[0m \u001b[0;34m\u001b[0m\u001b[0m\n\u001b[1;32m    537\u001b[0m     \u001b[0;32mdef\u001b[0m \u001b[0m__missing__\u001b[0m\u001b[0;34m(\u001b[0m\u001b[0mself\u001b[0m\u001b[0;34m,\u001b[0m \u001b[0mkey\u001b[0m\u001b[0;34m)\u001b[0m\u001b[0;34m:\u001b[0m\u001b[0;34m\u001b[0m\u001b[0;34m\u001b[0m\u001b[0m\n",
      "\u001b[0;32m~/.virtualenvs/venv/lib64/python3.6/collections/__init__.py\u001b[0m in \u001b[0;36mupdate\u001b[0;34m(*args, **kwds)\u001b[0m\n\u001b[1;32m    620\u001b[0m                     \u001b[0msuper\u001b[0m\u001b[0;34m(\u001b[0m\u001b[0mCounter\u001b[0m\u001b[0;34m,\u001b[0m \u001b[0mself\u001b[0m\u001b[0;34m)\u001b[0m\u001b[0;34m.\u001b[0m\u001b[0mupdate\u001b[0m\u001b[0;34m(\u001b[0m\u001b[0miterable\u001b[0m\u001b[0;34m)\u001b[0m \u001b[0;31m# fast path when counter is empty\u001b[0m\u001b[0;34m\u001b[0m\u001b[0;34m\u001b[0m\u001b[0m\n\u001b[1;32m    621\u001b[0m             \u001b[0;32melse\u001b[0m\u001b[0;34m:\u001b[0m\u001b[0;34m\u001b[0m\u001b[0;34m\u001b[0m\u001b[0m\n\u001b[0;32m--> 622\u001b[0;31m                 \u001b[0m_count_elements\u001b[0m\u001b[0;34m(\u001b[0m\u001b[0mself\u001b[0m\u001b[0;34m,\u001b[0m \u001b[0miterable\u001b[0m\u001b[0;34m)\u001b[0m\u001b[0;34m\u001b[0m\u001b[0;34m\u001b[0m\u001b[0m\n\u001b[0m\u001b[1;32m    623\u001b[0m         \u001b[0;32mif\u001b[0m \u001b[0mkwds\u001b[0m\u001b[0;34m:\u001b[0m\u001b[0;34m\u001b[0m\u001b[0;34m\u001b[0m\u001b[0m\n\u001b[1;32m    624\u001b[0m             \u001b[0mself\u001b[0m\u001b[0;34m.\u001b[0m\u001b[0mupdate\u001b[0m\u001b[0;34m(\u001b[0m\u001b[0mkwds\u001b[0m\u001b[0;34m)\u001b[0m\u001b[0;34m\u001b[0m\u001b[0;34m\u001b[0m\u001b[0m\n",
      "\u001b[0;31mTypeError\u001b[0m: unhashable type: 'list'"
     ]
    }
   ],
   "source": [
    "run_circuit(get_func_1to1('11'),2,10)"
   ]
  },
  {
   "cell_type": "markdown",
   "metadata": {},
   "source": [
    "# Verify correctness for 2to1 and check if we see different functions give different execution times?"
   ]
  },
  {
   "cell_type": "markdown",
   "metadata": {},
   "source": [
    "We think it doesn't make sense for testing how long it takes for simons problem as getting n-1 linearly independent solutions is completely based on chance. Anyways below we have the graph for comparing the 4 cases when n=4. (Only looking at 2to1 mapping functions)"
   ]
  },
  {
   "cell_type": "code",
   "execution_count": 30,
   "metadata": {
    "scrolled": true
   },
   "outputs": [
    {
     "name": "stdout",
     "output_type": "stream",
     "text": [
      "We have found s=10 on iteration number 10\n",
      "We have found s=11 on iteration number 3\n"
     ]
    }
   ],
   "source": [
    "time_it_took = []\n",
    "lst_bitseq = ['10','11']\n",
    "\n",
    "for i in range(len(lst_bitseq)):\n",
    "    start = time.time()\n",
    "    run_circuit(get_func_2to1(lst_bitseq[i]), 2,10)\n",
    "    end = time.time()\n",
    "    time_it_took.append(end-start)"
   ]
  },
  {
   "cell_type": "code",
   "execution_count": 31,
   "metadata": {},
   "outputs": [
    {
     "data": {
      "image/png": "[encoded data removed]",
      "text/plain": [
       "<Figure size 432x288 with 1 Axes>"
      ]
     },
     "metadata": {
      "needs_background": "light"
     },
     "output_type": "display_data"
    }
   ],
   "source": [
    "%matplotlib inline\n",
    "plt.bar(np.arange(2), time_it_took)\n",
    "plt.show()"
   ]
  },
  {
   "cell_type": "markdown",
   "metadata": {},
   "source": [
    "# Here we plot the runtime as n increases\n",
    "\n",
    "We were not able to run simons algorithm for n=4 in a realistic amount of time and it doens't make sense to run with n=1. So only plotting the result for n=2 and n=3. Anyways this will also face the same issue of taking variable amount of time because it is non-deterministic"
   ]
  },
  {
   "cell_type": "code",
   "execution_count": 32,
   "metadata": {},
   "outputs": [
    {
     "name": "stdout",
     "output_type": "stream",
     "text": [
      "We have found s=11 on iteration number 9\n"
     ]
    }
   ],
   "source": [
    "time_it_took = []\n",
    "lst_bitseq = ['11']\n",
    "\n",
    "for i in range(1):\n",
    "    start = time.time()\n",
    "    run_circuit(get_func_2to1(lst_bitseq[i]), i+2,10)\n",
    "    end = time.time()\n",
    "    time_it_took.append(end-start)"
   ]
  },
  {
   "cell_type": "markdown",
   "metadata": {},
   "source": [
    "# How to use our code?\n",
    "\n",
    "Running this is straightforward. We have a function called run_circuit which takes 3 arguments. The first argument is the function that we are using. This function can be easily built using get_func_2to1 or get_func_1to1 by passing an s value. 2nd argument is length of the input to this function. 3rd argument is m which controlls the number of trials. Higher value of m implies higher chance of finding s. For given m we can say that the probablity of not finding s is lower than e^-m. This is why in our experiments we have used m=10"
   ]
  }
 ],
 "metadata": {
  "kernelspec": {
   "display_name": "Python 3",
   "language": "python",
   "name": "python3"
  },
  "language_info": {
   "codemirror_mode": {
    "name": "ipython",
    "version": 3
   },
   "file_extension": ".py",
   "mimetype": "text/x-python",
   "name": "python",
   "nbconvert_exporter": "python",
   "pygments_lexer": "ipython3",
   "version": "3.6.8"
  }
 },
 "nbformat": 4,
 "nbformat_minor": 2
}
